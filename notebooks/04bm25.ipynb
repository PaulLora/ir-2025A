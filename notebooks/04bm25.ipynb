{
 "cells": [
  {
   "cell_type": "markdown",
   "metadata": {
    "id": "Y1B8VEhfq4ww"
   },
   "source": [
    "**Ejercicio 4: Modelo Probabilístico**\n",
    "\n",
    "**Objetivo de la práctica**\n",
    "\n",
    "\n",
    "\n",
    "*   Comprender los componentes del modelo vectorial mediante cálculos manuales y observación directa.\n",
    "*   Aplicar el modelo de espacio vectorial con TF-IDF para recuperar documentos relevantes.\n",
    "*   Comparar la recuperación con BM25 frente a TF-IDF.\n",
    "*   Analizar visualmente las diferencias entre los modelos.\n",
    "*   Evaluar si los rankings generados son consistentes con lo que considerarías documentos relevantes."
   ]
  },
  {
   "cell_type": "markdown",
   "metadata": {
    "id": "9xBlf31praX4"
   },
   "source": [
    "**Parte 0: Carga del Corpus**"
   ]
  },
  {
   "cell_type": "code",
   "execution_count": 6,
   "metadata": {
    "executionInfo": {
     "elapsed": 2633,
     "status": "ok",
     "timestamp": 1747849564526,
     "user": {
      "displayName": "Paul Lora",
      "userId": "13890414254635267871"
     },
     "user_tz": 300
    },
    "id": "bGOoqiW4sYho"
   },
   "outputs": [],
   "source": [
    "from sklearn.feature_extraction.text import TfidfVectorizer\n",
    "from sklearn.datasets import fetch_20newsgroups\n",
    "import pandas as pd\n",
    "from sklearn.feature_extraction.text import TfidfTransformer\n",
    "from sklearn.feature_extraction.text import CountVectorizer\n",
    "from sklearn.metrics.pairwise import cosine_similarity"
   ]
  },
  {
   "cell_type": "code",
   "execution_count": 7,
   "metadata": {
    "executionInfo": {
     "elapsed": 2382,
     "status": "ok",
     "timestamp": 1747849566912,
     "user": {
      "displayName": "Paul Lora",
      "userId": "13890414254635267871"
     },
     "user_tz": 300
    },
    "id": "QdB6CdnDqyZ_"
   },
   "outputs": [],
   "source": [
    "newsgroups = fetch_20newsgroups(subset='all', remove=('headers', 'footers', 'quotes'))\n",
    "newsgroupsdocs = newsgroups.data"
   ]
  },
  {
   "cell_type": "markdown",
   "metadata": {
    "id": "_y8cca8cr2Yw"
   },
   "source": [
    "**Parte 1: Cálculo de TF, DF, IDF y TF-IDF**\n",
    "\n",
    "**Actividad**\n",
    "\n",
    "1.   Utiliza el corpus cargado.\n",
    "2.   Construye la matriz de términos (TF), y calcula la frecuencia de documentos (DF).\n",
    "3.  Calcula TF-IDF utilizando sklearn.\n",
    "4.  Visualiza los valores en un DataFrame para analizar las diferencias entre los términos."
   ]
  },
  {
   "cell_type": "code",
   "execution_count": 8,
   "metadata": {
    "executionInfo": {
     "elapsed": 4039,
     "status": "ok",
     "timestamp": 1747849570949,
     "user": {
      "displayName": "Paul Lora",
      "userId": "13890414254635267871"
     },
     "user_tz": 300
    },
    "id": "wqc7ZicfrrKo"
   },
   "outputs": [],
   "source": [
    "# settings that you use for count vectorizer will go here\n",
    "tfidf_vectorizer=TfidfVectorizer(use_idf=True, lowercase=True)\n",
    "\n",
    "# just send in all your docs here\n",
    "tfidf_vectorizer_vectors=tfidf_vectorizer.fit_transform(newsgroupsdocs)"
   ]
  },
  {
   "cell_type": "code",
   "execution_count": 9,
   "metadata": {
    "colab": {
     "base_uri": "https://localhost:8080/",
     "height": 424
    },
    "executionInfo": {
     "elapsed": 5440,
     "status": "ok",
     "timestamp": 1747849576413,
     "user": {
      "displayName": "Paul Lora",
      "userId": "13890414254635267871"
     },
     "user_tz": 300
    },
    "id": "OSmnOmvL6dUv",
    "outputId": "3a99e895-d179-4f02-a6f5-3278aabcb87b"
   },
   "outputs": [
    {
     "data": {
      "text/html": [
       "<div>\n",
       "<style scoped>\n",
       "    .dataframe tbody tr th:only-of-type {\n",
       "        vertical-align: middle;\n",
       "    }\n",
       "\n",
       "    .dataframe tbody tr th {\n",
       "        vertical-align: top;\n",
       "    }\n",
       "\n",
       "    .dataframe thead th {\n",
       "        text-align: right;\n",
       "    }\n",
       "</style>\n",
       "<table border=\"1\" class=\"dataframe\">\n",
       "  <thead>\n",
       "    <tr style=\"text-align: right;\">\n",
       "      <th></th>\n",
       "      <th>0</th>\n",
       "      <th>1</th>\n",
       "      <th>2</th>\n",
       "      <th>3</th>\n",
       "      <th>4</th>\n",
       "      <th>5</th>\n",
       "      <th>6</th>\n",
       "      <th>7</th>\n",
       "      <th>8</th>\n",
       "      <th>9</th>\n",
       "      <th>...</th>\n",
       "      <th>18836</th>\n",
       "      <th>18837</th>\n",
       "      <th>18838</th>\n",
       "      <th>18839</th>\n",
       "      <th>18840</th>\n",
       "      <th>18841</th>\n",
       "      <th>18842</th>\n",
       "      <th>18843</th>\n",
       "      <th>18844</th>\n",
       "      <th>18845</th>\n",
       "    </tr>\n",
       "  </thead>\n",
       "  <tbody>\n",
       "    <tr>\n",
       "      <th>00</th>\n",
       "      <td>0.0</td>\n",
       "      <td>0.0</td>\n",
       "      <td>0.0</td>\n",
       "      <td>0.0</td>\n",
       "      <td>0.0</td>\n",
       "      <td>0.0</td>\n",
       "      <td>0.0</td>\n",
       "      <td>0.217494</td>\n",
       "      <td>0.0</td>\n",
       "      <td>0.0</td>\n",
       "      <td>...</td>\n",
       "      <td>0.0</td>\n",
       "      <td>0.0</td>\n",
       "      <td>0.0</td>\n",
       "      <td>0.0</td>\n",
       "      <td>0.0</td>\n",
       "      <td>0.0</td>\n",
       "      <td>0.0</td>\n",
       "      <td>0.0</td>\n",
       "      <td>0.0</td>\n",
       "      <td>0.0</td>\n",
       "    </tr>\n",
       "    <tr>\n",
       "      <th>000</th>\n",
       "      <td>0.0</td>\n",
       "      <td>0.0</td>\n",
       "      <td>0.0</td>\n",
       "      <td>0.0</td>\n",
       "      <td>0.0</td>\n",
       "      <td>0.0</td>\n",
       "      <td>0.0</td>\n",
       "      <td>0.000000</td>\n",
       "      <td>0.0</td>\n",
       "      <td>0.0</td>\n",
       "      <td>...</td>\n",
       "      <td>0.0</td>\n",
       "      <td>0.0</td>\n",
       "      <td>0.0</td>\n",
       "      <td>0.0</td>\n",
       "      <td>0.0</td>\n",
       "      <td>0.0</td>\n",
       "      <td>0.0</td>\n",
       "      <td>0.0</td>\n",
       "      <td>0.0</td>\n",
       "      <td>0.0</td>\n",
       "    </tr>\n",
       "    <tr>\n",
       "      <th>0000</th>\n",
       "      <td>0.0</td>\n",
       "      <td>0.0</td>\n",
       "      <td>0.0</td>\n",
       "      <td>0.0</td>\n",
       "      <td>0.0</td>\n",
       "      <td>0.0</td>\n",
       "      <td>0.0</td>\n",
       "      <td>0.000000</td>\n",
       "      <td>0.0</td>\n",
       "      <td>0.0</td>\n",
       "      <td>...</td>\n",
       "      <td>0.0</td>\n",
       "      <td>0.0</td>\n",
       "      <td>0.0</td>\n",
       "      <td>0.0</td>\n",
       "      <td>0.0</td>\n",
       "      <td>0.0</td>\n",
       "      <td>0.0</td>\n",
       "      <td>0.0</td>\n",
       "      <td>0.0</td>\n",
       "      <td>0.0</td>\n",
       "    </tr>\n",
       "    <tr>\n",
       "      <th>00000</th>\n",
       "      <td>0.0</td>\n",
       "      <td>0.0</td>\n",
       "      <td>0.0</td>\n",
       "      <td>0.0</td>\n",
       "      <td>0.0</td>\n",
       "      <td>0.0</td>\n",
       "      <td>0.0</td>\n",
       "      <td>0.000000</td>\n",
       "      <td>0.0</td>\n",
       "      <td>0.0</td>\n",
       "      <td>...</td>\n",
       "      <td>0.0</td>\n",
       "      <td>0.0</td>\n",
       "      <td>0.0</td>\n",
       "      <td>0.0</td>\n",
       "      <td>0.0</td>\n",
       "      <td>0.0</td>\n",
       "      <td>0.0</td>\n",
       "      <td>0.0</td>\n",
       "      <td>0.0</td>\n",
       "      <td>0.0</td>\n",
       "    </tr>\n",
       "    <tr>\n",
       "      <th>000000</th>\n",
       "      <td>0.0</td>\n",
       "      <td>0.0</td>\n",
       "      <td>0.0</td>\n",
       "      <td>0.0</td>\n",
       "      <td>0.0</td>\n",
       "      <td>0.0</td>\n",
       "      <td>0.0</td>\n",
       "      <td>0.000000</td>\n",
       "      <td>0.0</td>\n",
       "      <td>0.0</td>\n",
       "      <td>...</td>\n",
       "      <td>0.0</td>\n",
       "      <td>0.0</td>\n",
       "      <td>0.0</td>\n",
       "      <td>0.0</td>\n",
       "      <td>0.0</td>\n",
       "      <td>0.0</td>\n",
       "      <td>0.0</td>\n",
       "      <td>0.0</td>\n",
       "      <td>0.0</td>\n",
       "      <td>0.0</td>\n",
       "    </tr>\n",
       "    <tr>\n",
       "      <th>...</th>\n",
       "      <td>...</td>\n",
       "      <td>...</td>\n",
       "      <td>...</td>\n",
       "      <td>...</td>\n",
       "      <td>...</td>\n",
       "      <td>...</td>\n",
       "      <td>...</td>\n",
       "      <td>...</td>\n",
       "      <td>...</td>\n",
       "      <td>...</td>\n",
       "      <td>...</td>\n",
       "      <td>...</td>\n",
       "      <td>...</td>\n",
       "      <td>...</td>\n",
       "      <td>...</td>\n",
       "      <td>...</td>\n",
       "      <td>...</td>\n",
       "      <td>...</td>\n",
       "      <td>...</td>\n",
       "      <td>...</td>\n",
       "      <td>...</td>\n",
       "    </tr>\n",
       "    <tr>\n",
       "      <th>zzzzzz</th>\n",
       "      <td>0.0</td>\n",
       "      <td>0.0</td>\n",
       "      <td>0.0</td>\n",
       "      <td>0.0</td>\n",
       "      <td>0.0</td>\n",
       "      <td>0.0</td>\n",
       "      <td>0.0</td>\n",
       "      <td>0.000000</td>\n",
       "      <td>0.0</td>\n",
       "      <td>0.0</td>\n",
       "      <td>...</td>\n",
       "      <td>0.0</td>\n",
       "      <td>0.0</td>\n",
       "      <td>0.0</td>\n",
       "      <td>0.0</td>\n",
       "      <td>0.0</td>\n",
       "      <td>0.0</td>\n",
       "      <td>0.0</td>\n",
       "      <td>0.0</td>\n",
       "      <td>0.0</td>\n",
       "      <td>0.0</td>\n",
       "    </tr>\n",
       "    <tr>\n",
       "      <th>zzzzzzt</th>\n",
       "      <td>0.0</td>\n",
       "      <td>0.0</td>\n",
       "      <td>0.0</td>\n",
       "      <td>0.0</td>\n",
       "      <td>0.0</td>\n",
       "      <td>0.0</td>\n",
       "      <td>0.0</td>\n",
       "      <td>0.000000</td>\n",
       "      <td>0.0</td>\n",
       "      <td>0.0</td>\n",
       "      <td>...</td>\n",
       "      <td>0.0</td>\n",
       "      <td>0.0</td>\n",
       "      <td>0.0</td>\n",
       "      <td>0.0</td>\n",
       "      <td>0.0</td>\n",
       "      <td>0.0</td>\n",
       "      <td>0.0</td>\n",
       "      <td>0.0</td>\n",
       "      <td>0.0</td>\n",
       "      <td>0.0</td>\n",
       "    </tr>\n",
       "    <tr>\n",
       "      <th>³ation</th>\n",
       "      <td>0.0</td>\n",
       "      <td>0.0</td>\n",
       "      <td>0.0</td>\n",
       "      <td>0.0</td>\n",
       "      <td>0.0</td>\n",
       "      <td>0.0</td>\n",
       "      <td>0.0</td>\n",
       "      <td>0.000000</td>\n",
       "      <td>0.0</td>\n",
       "      <td>0.0</td>\n",
       "      <td>...</td>\n",
       "      <td>0.0</td>\n",
       "      <td>0.0</td>\n",
       "      <td>0.0</td>\n",
       "      <td>0.0</td>\n",
       "      <td>0.0</td>\n",
       "      <td>0.0</td>\n",
       "      <td>0.0</td>\n",
       "      <td>0.0</td>\n",
       "      <td>0.0</td>\n",
       "      <td>0.0</td>\n",
       "    </tr>\n",
       "    <tr>\n",
       "      <th>ýé</th>\n",
       "      <td>0.0</td>\n",
       "      <td>0.0</td>\n",
       "      <td>0.0</td>\n",
       "      <td>0.0</td>\n",
       "      <td>0.0</td>\n",
       "      <td>0.0</td>\n",
       "      <td>0.0</td>\n",
       "      <td>0.000000</td>\n",
       "      <td>0.0</td>\n",
       "      <td>0.0</td>\n",
       "      <td>...</td>\n",
       "      <td>0.0</td>\n",
       "      <td>0.0</td>\n",
       "      <td>0.0</td>\n",
       "      <td>0.0</td>\n",
       "      <td>0.0</td>\n",
       "      <td>0.0</td>\n",
       "      <td>0.0</td>\n",
       "      <td>0.0</td>\n",
       "      <td>0.0</td>\n",
       "      <td>0.0</td>\n",
       "    </tr>\n",
       "    <tr>\n",
       "      <th>ÿhooked</th>\n",
       "      <td>0.0</td>\n",
       "      <td>0.0</td>\n",
       "      <td>0.0</td>\n",
       "      <td>0.0</td>\n",
       "      <td>0.0</td>\n",
       "      <td>0.0</td>\n",
       "      <td>0.0</td>\n",
       "      <td>0.000000</td>\n",
       "      <td>0.0</td>\n",
       "      <td>0.0</td>\n",
       "      <td>...</td>\n",
       "      <td>0.0</td>\n",
       "      <td>0.0</td>\n",
       "      <td>0.0</td>\n",
       "      <td>0.0</td>\n",
       "      <td>0.0</td>\n",
       "      <td>0.0</td>\n",
       "      <td>0.0</td>\n",
       "      <td>0.0</td>\n",
       "      <td>0.0</td>\n",
       "      <td>0.0</td>\n",
       "    </tr>\n",
       "  </tbody>\n",
       "</table>\n",
       "<p>134410 rows × 18846 columns</p>\n",
       "</div>"
      ],
      "text/plain": [
       "         0      1      2      3      4      5      6         7      8      \\\n",
       "00         0.0    0.0    0.0    0.0    0.0    0.0    0.0  0.217494    0.0   \n",
       "000        0.0    0.0    0.0    0.0    0.0    0.0    0.0  0.000000    0.0   \n",
       "0000       0.0    0.0    0.0    0.0    0.0    0.0    0.0  0.000000    0.0   \n",
       "00000      0.0    0.0    0.0    0.0    0.0    0.0    0.0  0.000000    0.0   \n",
       "000000     0.0    0.0    0.0    0.0    0.0    0.0    0.0  0.000000    0.0   \n",
       "...        ...    ...    ...    ...    ...    ...    ...       ...    ...   \n",
       "zzzzzz     0.0    0.0    0.0    0.0    0.0    0.0    0.0  0.000000    0.0   \n",
       "zzzzzzt    0.0    0.0    0.0    0.0    0.0    0.0    0.0  0.000000    0.0   \n",
       "³ation     0.0    0.0    0.0    0.0    0.0    0.0    0.0  0.000000    0.0   \n",
       "ýé         0.0    0.0    0.0    0.0    0.0    0.0    0.0  0.000000    0.0   \n",
       "ÿhooked    0.0    0.0    0.0    0.0    0.0    0.0    0.0  0.000000    0.0   \n",
       "\n",
       "         9      ...  18836  18837  18838  18839  18840  18841  18842  18843  \\\n",
       "00         0.0  ...    0.0    0.0    0.0    0.0    0.0    0.0    0.0    0.0   \n",
       "000        0.0  ...    0.0    0.0    0.0    0.0    0.0    0.0    0.0    0.0   \n",
       "0000       0.0  ...    0.0    0.0    0.0    0.0    0.0    0.0    0.0    0.0   \n",
       "00000      0.0  ...    0.0    0.0    0.0    0.0    0.0    0.0    0.0    0.0   \n",
       "000000     0.0  ...    0.0    0.0    0.0    0.0    0.0    0.0    0.0    0.0   \n",
       "...        ...  ...    ...    ...    ...    ...    ...    ...    ...    ...   \n",
       "zzzzzz     0.0  ...    0.0    0.0    0.0    0.0    0.0    0.0    0.0    0.0   \n",
       "zzzzzzt    0.0  ...    0.0    0.0    0.0    0.0    0.0    0.0    0.0    0.0   \n",
       "³ation     0.0  ...    0.0    0.0    0.0    0.0    0.0    0.0    0.0    0.0   \n",
       "ýé         0.0  ...    0.0    0.0    0.0    0.0    0.0    0.0    0.0    0.0   \n",
       "ÿhooked    0.0  ...    0.0    0.0    0.0    0.0    0.0    0.0    0.0    0.0   \n",
       "\n",
       "         18844  18845  \n",
       "00         0.0    0.0  \n",
       "000        0.0    0.0  \n",
       "0000       0.0    0.0  \n",
       "00000      0.0    0.0  \n",
       "000000     0.0    0.0  \n",
       "...        ...    ...  \n",
       "zzzzzz     0.0    0.0  \n",
       "zzzzzzt    0.0    0.0  \n",
       "³ation     0.0    0.0  \n",
       "ýé         0.0    0.0  \n",
       "ÿhooked    0.0    0.0  \n",
       "\n",
       "[134410 rows x 18846 columns]"
      ]
     },
     "execution_count": 9,
     "metadata": {},
     "output_type": "execute_result"
    }
   ],
   "source": [
    "df = pd.DataFrame(tfidf_vectorizer_vectors.T.todense(), index=tfidf_vectorizer.get_feature_names_out())\n",
    "# Sort by TF-IDF descending to see the most important terms first\n",
    "df"
   ]
  },
  {
   "cell_type": "code",
   "execution_count": 10,
   "metadata": {
    "colab": {
     "base_uri": "https://localhost:8080/"
    },
    "executionInfo": {
     "elapsed": 10,
     "status": "ok",
     "timestamp": 1747849576425,
     "user": {
      "displayName": "Paul Lora",
      "userId": "13890414254635267871"
     },
     "user_tz": 300
    },
    "id": "X2wxYKDctVEA",
    "outputId": "6e08d464-4384-4f38-b120-ab79ee425c84"
   },
   "outputs": [
    {
     "name": "stdout",
     "output_type": "stream",
     "text": [
      "(18846, 134410)\n"
     ]
    }
   ],
   "source": [
    "print(tfidf_vectorizer_vectors.shape)\n"
   ]
  },
  {
   "cell_type": "markdown",
   "metadata": {
    "id": "WpU8ZyeG7V3G"
   },
   "source": [
    "**Parte 2: Ranking de documentos usando TF-IDF**\n",
    "\n",
    "**Actividad**\n",
    "\n",
    "1.  Dada una consulta, construye el vector de consulta\n",
    "2.  Calcula la similitud coseno entre la consulta y cada documento usando los vectores TF-IDF\n",
    "3.  Genera un ranking de los documentos ordenados por relevancia.\n",
    "4.  Muestra los resultados en una tabla."
   ]
  },
  {
   "cell_type": "code",
   "execution_count": 54,
   "metadata": {
    "executionInfo": {
     "elapsed": 49,
     "status": "ok",
     "timestamp": 1747850008896,
     "user": {
      "displayName": "Paul Lora",
      "userId": "13890414254635267871"
     },
     "user_tz": 300
    },
    "id": "u5DftfrRy1Q_"
   },
   "outputs": [],
   "source": [
    "query = \"chicken\""
   ]
  },
  {
   "cell_type": "code",
   "execution_count": 55,
   "metadata": {
    "executionInfo": {
     "elapsed": 5,
     "status": "ok",
     "timestamp": 1747850010949,
     "user": {
      "displayName": "Paul Lora",
      "userId": "13890414254635267871"
     },
     "user_tz": 300
    },
    "id": "wlQZ53YU7pf_"
   },
   "outputs": [],
   "source": [
    "vertorized_query=tfidf_vectorizer.transform([query])"
   ]
  },
  {
   "cell_type": "code",
   "execution_count": 56,
   "metadata": {
    "colab": {
     "base_uri": "https://localhost:8080/",
     "height": 424
    },
    "executionInfo": {
     "elapsed": 163,
     "status": "ok",
     "timestamp": 1747850011931,
     "user": {
      "displayName": "Paul Lora",
      "userId": "13890414254635267871"
     },
     "user_tz": 300
    },
    "id": "PpxgzGGW8P2-",
    "outputId": "70c895c2-c226-4c1b-f0ed-aecb54181af8"
   },
   "outputs": [
    {
     "data": {
      "text/html": [
       "<div>\n",
       "<style scoped>\n",
       "    .dataframe tbody tr th:only-of-type {\n",
       "        vertical-align: middle;\n",
       "    }\n",
       "\n",
       "    .dataframe tbody tr th {\n",
       "        vertical-align: top;\n",
       "    }\n",
       "\n",
       "    .dataframe thead th {\n",
       "        text-align: right;\n",
       "    }\n",
       "</style>\n",
       "<table border=\"1\" class=\"dataframe\">\n",
       "  <thead>\n",
       "    <tr style=\"text-align: right;\">\n",
       "      <th></th>\n",
       "      <th>0</th>\n",
       "    </tr>\n",
       "  </thead>\n",
       "  <tbody>\n",
       "    <tr>\n",
       "      <th>00</th>\n",
       "      <td>0.0</td>\n",
       "    </tr>\n",
       "    <tr>\n",
       "      <th>000</th>\n",
       "      <td>0.0</td>\n",
       "    </tr>\n",
       "    <tr>\n",
       "      <th>0000</th>\n",
       "      <td>0.0</td>\n",
       "    </tr>\n",
       "    <tr>\n",
       "      <th>00000</th>\n",
       "      <td>0.0</td>\n",
       "    </tr>\n",
       "    <tr>\n",
       "      <th>000000</th>\n",
       "      <td>0.0</td>\n",
       "    </tr>\n",
       "    <tr>\n",
       "      <th>...</th>\n",
       "      <td>...</td>\n",
       "    </tr>\n",
       "    <tr>\n",
       "      <th>zzzzzz</th>\n",
       "      <td>0.0</td>\n",
       "    </tr>\n",
       "    <tr>\n",
       "      <th>zzzzzzt</th>\n",
       "      <td>0.0</td>\n",
       "    </tr>\n",
       "    <tr>\n",
       "      <th>³ation</th>\n",
       "      <td>0.0</td>\n",
       "    </tr>\n",
       "    <tr>\n",
       "      <th>ýé</th>\n",
       "      <td>0.0</td>\n",
       "    </tr>\n",
       "    <tr>\n",
       "      <th>ÿhooked</th>\n",
       "      <td>0.0</td>\n",
       "    </tr>\n",
       "  </tbody>\n",
       "</table>\n",
       "<p>134410 rows × 1 columns</p>\n",
       "</div>"
      ],
      "text/plain": [
       "           0\n",
       "00       0.0\n",
       "000      0.0\n",
       "0000     0.0\n",
       "00000    0.0\n",
       "000000   0.0\n",
       "...      ...\n",
       "zzzzzz   0.0\n",
       "zzzzzzt  0.0\n",
       "³ation   0.0\n",
       "ýé       0.0\n",
       "ÿhooked  0.0\n",
       "\n",
       "[134410 rows x 1 columns]"
      ]
     },
     "execution_count": 56,
     "metadata": {},
     "output_type": "execute_result"
    }
   ],
   "source": [
    "df = pd.DataFrame(vertorized_query.T.todense(), index=tfidf_vectorizer.get_feature_names_out())\n",
    "df"
   ]
  },
  {
   "cell_type": "code",
   "execution_count": 57,
   "metadata": {},
   "outputs": [
    {
     "name": "stdout",
     "output_type": "stream",
     "text": [
      "1315\n",
      "0.26916916401882984\n",
      "\n",
      "But remember that had God extinguished the blasphemous trash of Europe (and\n",
      "Imperialism with it), the United States would not exist today to put an end\n",
      "to those \"games\"....begs the question, which came first, the chicken or the\n",
      "egg???\n"
     ]
    }
   ],
   "source": [
    "cosine_similarities = cosine_similarity(vertorized_query, tfidf_vectorizer_vectors).flatten()\n",
    "\n",
    "print(cosine_similarities.argmax())\n",
    "print(cosine_similarities[cosine_similarities.argmax()])\n",
    "\n",
    "# cosine_similarities.argmax()\n",
    "\n",
    "# type(cosine_similarities)\n",
    "\n",
    "print(newsgroupsdocs[cosine_similarities.argmax()])"
   ]
  }
 ],
 "metadata": {
  "colab": {
   "authorship_tag": "ABX9TyOZ5m+k865igHiU+eR8vwYY",
   "provenance": []
  },
  "kernelspec": {
   "display_name": ".venv",
   "language": "python",
   "name": "python3"
  },
  "language_info": {
   "codemirror_mode": {
    "name": "ipython",
    "version": 3
   },
   "file_extension": ".py",
   "mimetype": "text/x-python",
   "name": "python",
   "nbconvert_exporter": "python",
   "pygments_lexer": "ipython3",
   "version": "3.12.9"
  }
 },
 "nbformat": 4,
 "nbformat_minor": 0
}
