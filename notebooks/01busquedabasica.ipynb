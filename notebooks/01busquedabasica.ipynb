{
 "cells": [
  {
   "cell_type": "markdown",
   "id": "20980d198e5f991c",
   "metadata": {},
   "source": [
    "# Ejercicio 1: Introducción a Recuperación de Información\n",
    "\n",
    "## Objetivo de la práctica\n",
    "- Entender el problema de **buscar información** en colecciones de texto.\n",
    "- Comprender por qué se necesita un **índice invertido** en recuperación de información.\n",
    "- Programar una primera solución manual y luego optimizarla con un índice.\n",
    "- Evaluar la mejora en tiempos de búsqueda cuando usamos estructuras adecuadas."
   ]
  },
  {
   "cell_type": "markdown",
   "id": "175182ac2f1f542c",
   "metadata": {},
   "source": [
    "## Parte 1: Búsqueda lineal en documentos\n",
    "\n",
    "### Actividad\n",
    "1. Se te proporcionará un conjunto de documentos de texto.\n",
    "2. Escribe una función que:\n",
    "   - Lea todos los documentos.\n",
    "   - Busque una palabra ingresada por el usuario.\n",
    "   - Muestre en qué documentos aparece la palabra."
   ]
  },
  {
   "cell_type": "code",
   "execution_count": 3,
   "id": "initial_id",
   "metadata": {
    "collapsed": true
   },
   "outputs": [
    {
     "name": "stdout",
     "output_type": "stream",
     "text": [
      "['La ciudad de Quito cuenta con un centro histórico declarado Patrimonio de la Humanidad por la UNESCO.', 'Quito tiene un centro histórico Patrimonio de la Humanidad Perfecto para surf.', 'Quito tiene un centro histórico Patrimonio de la Humanidad Ideal para el próximo feriado.', 'Quito tiene un centro histórico Patrimonio de la Humanidad Un lugar sorprendente para visitar.', 'Quito tiene un centro histórico Patrimonio de la Humanidad Perfecto para rafting.', 'Quito tiene un centro histórico Patrimonio de la Humanidad Perfecto para senderismo.', 'Quito tiene un centro histórico Patrimonio de la Humanidad Ideal para el próximo feriado.', 'Quito tiene un centro histórico Patrimonio de la Humanidad Ideal para el próximo feriado.', 'Quito tiene un centro histórico Patrimonio de la Humanidad', 'Quito tiene un centro histórico Patrimonio de la Humanidad Perfecto para canopy.', 'Quito tiene un centro histórico Patrimonio de la Humanidad Perfecto para canopy.', 'Quito tiene un centro histórico Patrimonio de la Humanidad Un lugar sorprendente para visitar.', 'Quito tiene un centro histórico Patrimonio de la Humanidad Ideal para el próximo feriado.', 'Quito tiene un centro histórico Patrimonio de la Humanidad Perfecto para senderismo.', 'Quito tiene un centro histórico Patrimonio de la Humanidad Un lugar auténtico para visitar.', 'Quito tiene un centro histórico Patrimonio de la Humanidad Perfecto para rafting.', 'Quito tiene un centro histórico Patrimonio de la Humanidad Ideal para el próximo feriado.', 'Quito tiene un centro histórico Patrimonio de la Humanidad Perfecto para surf.', 'Quito tiene un centro histórico Patrimonio de la Humanidad Un lugar tranquilo para visitar.', 'Quito tiene un centro histórico Patrimonio de la Humanidad', 'Quito tiene un centro histórico Patrimonio de la Humanidad Ideal para el próximo feriado.']\n"
     ]
    }
   ],
   "source": [
    "import os\n",
    "\n",
    "search_word = \"Quito\"\n",
    "DATASET_PATH = \"../data\"\n",
    "\n",
    "def find(query: str) -> list:\n",
    "    results=[]\n",
    "    files = [f for f in os.listdir(DATASET_PATH)]\n",
    "    \n",
    "    for corpus in files:\n",
    "        corpus_path = os.path.join(DATASET_PATH, corpus)\n",
    "        \n",
    "        with open(corpus_path, 'r', encoding='utf-8') as corpus:\n",
    "            for doc in corpus:  \n",
    "                if search_word in doc.split():\n",
    "                    results.append(doc.strip())\n",
    "\n",
    "\n",
    "    return results\n",
    "\n",
    "results = find(search_word)\n",
    "        \n",
    "if not results:\n",
    "    print(f\"No matches found for '{search_word}'.\")\n",
    "\n",
    "else:\n",
    "    print(results)"
   ]
  },
  {
   "cell_type": "markdown",
   "id": "57c9797b0bf7f4bb",
   "metadata": {},
   "source": [
    "## Parte 2: Construcción de un índice invertido\n",
    "\n",
    "### Actividad\n",
    "1. Escribe un programa que:\n",
    "   - Recorra todos los documentos.\n",
    "   - Construya un **índice invertido**, es decir, un diccionario donde:\n",
    "     - Cada palabra clave apunta a una lista de documentos donde aparece.\n",
    "\n",
    "2. Escribe una nueva función de búsqueda que:\n",
    "   - Consulte directamente el índice para encontrar los documentos relevantes.\n",
    "   - Sea mucho más rápida que la búsqueda lineal."
   ]
  },
  {
   "cell_type": "code",
   "execution_count": null,
   "id": "34e7a4522b06d969",
   "metadata": {},
   "outputs": [],
   "source": []
  },
  {
   "cell_type": "markdown",
   "id": "3f311d0944a2f98d",
   "metadata": {},
   "source": [
    "## Parte 3: Evaluación de tiempos de búsqueda\n",
    "### Actividad\n",
    "\n",
    "1. Realiza la búsqueda de varias palabras usando:\n",
    "      -  Corpus pequeño: 16 documentos (turismo en Ecuador).\n",
    "      -  Corpus grande: 500 documentos (versión ampliada).\n",
    "2. Mide el tiempo de ejecución:\n",
    "      -  Para búsqueda lineal.\n",
    "      -  Para búsqueda usando índice invertido.\n",
    "      -  Grafica o presenta los resultados en una tabla comparativa.\n",
    "\n",
    "### Ejemplo de palabras para buscar\n",
    "- quito\n",
    "- montañita\n",
    "- feriado\n",
    "- playas\n",
    "- aventura\n",
    "- galápagos"
   ]
  },
  {
   "cell_type": "code",
   "execution_count": null,
   "id": "15211fcaadfeb175",
   "metadata": {},
   "outputs": [],
   "source": []
  },
  {
   "cell_type": "markdown",
   "id": "93a841af5ef64dd7",
   "metadata": {},
   "source": [
    "## Parte 4:\n",
    "### Actividad\n",
    "1. Modifica el índice para que ignore mayúsculas/minúsculas (por ejemplo, \"Playa\" y \"playa\" deben considerarse iguales).\n",
    "2. Permite consultas de múltiples términos (ejemplo: buscar documentos que contengan \"playa\" y \"turismo\").\n",
    "3. Calcula el _speedup_"
   ]
  },
  {
   "cell_type": "code",
   "execution_count": null,
   "id": "66741cbd7ba00bb6",
   "metadata": {},
   "outputs": [],
   "source": []
  }
 ],
 "metadata": {
  "kernelspec": {
   "display_name": ".venv",
   "language": "python",
   "name": "python3"
  },
  "language_info": {
   "codemirror_mode": {
    "name": "ipython",
    "version": 3
   },
   "file_extension": ".py",
   "mimetype": "text/x-python",
   "name": "python",
   "nbconvert_exporter": "python",
   "pygments_lexer": "ipython3",
   "version": "3.12.9"
  }
 },
 "nbformat": 4,
 "nbformat_minor": 5
}
