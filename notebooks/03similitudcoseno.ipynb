{
 "cells": [
  {
   "cell_type": "markdown",
   "id": "25a9d760d321cc33",
   "metadata": {},
   "source": [
    "# Ejercicio 3: Representación Gráfica de Vectores de Documentos y Consultas\n",
    "\n",
    "## Objetivo de la práctica\n",
    "- Comprender la representación de documentos y consultas en el modelo de espacio vectorial, mediante el cálculo de matrices término-documento usando medidas como TF y TF-IDF.\n",
    "- Aplicar la similitud coseno para comparar documentos con consultas, y utilizarla para recuperar y ordenar documentos según su relevancia.\n",
    "- Visualizar de forma intuitiva los vectores de documentos y consultas, mediante reducción de dimensionalidad y representación gráfica en el plano, para facilitar la interpretación geométrica de la recuperación de información."
   ]
  },
  {
   "cell_type": "markdown",
   "id": "1fe1c237143173b7",
   "metadata": {},
   "source": [
    "## Parte 1: Construcción de la matriz término-documento y TF-IDF\n",
    "\n",
    "### Actividad\n",
    "1. Usa el siguiente corpus de 4 documentos.\n",
    "2. Vectoriza los documentos usando:\n",
    "   - Frecuencia absoluta (TF)\n",
    "   - TF-IDF\n",
    "3. Visualiza los documentos como un gráfico de dispersión 2D y 3D."
   ]
  },
  {
   "cell_type": "code",
   "execution_count": 18,
   "id": "884975d6",
   "metadata": {},
   "outputs": [
    {
     "name": "stdout",
     "output_type": "stream",
     "text": [
      "Collecting scikit-learn\n",
      "  Downloading scikit_learn-1.6.1-cp312-cp312-macosx_12_0_arm64.whl.metadata (31 kB)\n",
      "Requirement already satisfied: numpy>=1.19.5 in /Users/paullora/Desktop/EPN/ir/ir-2025A/.venv/lib/python3.12/site-packages (from scikit-learn) (2.2.5)\n",
      "Collecting scipy>=1.6.0 (from scikit-learn)\n",
      "  Downloading scipy-1.15.3-cp312-cp312-macosx_14_0_arm64.whl.metadata (61 kB)\n",
      "Collecting joblib>=1.2.0 (from scikit-learn)\n",
      "  Downloading joblib-1.5.0-py3-none-any.whl.metadata (5.6 kB)\n",
      "Collecting threadpoolctl>=3.1.0 (from scikit-learn)\n",
      "  Downloading threadpoolctl-3.6.0-py3-none-any.whl.metadata (13 kB)\n",
      "Downloading scikit_learn-1.6.1-cp312-cp312-macosx_12_0_arm64.whl (11.2 MB)\n",
      "\u001b[2K   \u001b[90m━━━━━━━━━━━━━━━━━━━━━━━━━━━━━━━━━━━━━━━━\u001b[0m \u001b[32m11.2/11.2 MB\u001b[0m \u001b[31m26.3 MB/s\u001b[0m eta \u001b[36m0:00:00\u001b[0m \u001b[36m0:00:01\u001b[0m\n",
      "\u001b[?25hDownloading joblib-1.5.0-py3-none-any.whl (307 kB)\n",
      "Downloading scipy-1.15.3-cp312-cp312-macosx_14_0_arm64.whl (22.4 MB)\n",
      "\u001b[2K   \u001b[90m━━━━━━━━━━━━━━━━━━━━━━━━━━━━━━━━━━━━━━━━\u001b[0m \u001b[32m22.4/22.4 MB\u001b[0m \u001b[31m29.3 MB/s\u001b[0m eta \u001b[36m0:00:00\u001b[0ma \u001b[36m0:00:01\u001b[0m\n",
      "\u001b[?25hDownloading threadpoolctl-3.6.0-py3-none-any.whl (18 kB)\n",
      "Installing collected packages: threadpoolctl, scipy, joblib, scikit-learn\n",
      "\u001b[2K   \u001b[90m━━━━━━━━━━━━━━━━━━━━━━━━━━━━━━━━━━━━━━━━\u001b[0m \u001b[32m4/4\u001b[0m [scikit-learn][0m [scikit-learn]\n",
      "\u001b[1A\u001b[2KSuccessfully installed joblib-1.5.0 scikit-learn-1.6.1 scipy-1.15.3 threadpoolctl-3.6.0\n",
      "\n",
      "\u001b[1m[\u001b[0m\u001b[34;49mnotice\u001b[0m\u001b[1;39;49m]\u001b[0m\u001b[39;49m A new release of pip is available: \u001b[0m\u001b[31;49m25.1\u001b[0m\u001b[39;49m -> \u001b[0m\u001b[32;49m25.1.1\u001b[0m\n",
      "\u001b[1m[\u001b[0m\u001b[34;49mnotice\u001b[0m\u001b[1;39;49m]\u001b[0m\u001b[39;49m To update, run: \u001b[0m\u001b[32;49mpip install --upgrade pip\u001b[0m\n",
      "Note: you may need to restart the kernel to use updated packages.\n"
     ]
    }
   ],
   "source": [
    "%pip install scikit-learn"
   ]
  },
  {
   "cell_type": "code",
   "execution_count": 21,
   "id": "initial_id",
   "metadata": {
    "collapsed": true
   },
   "outputs": [
    {
     "name": "stdout",
     "output_type": "stream",
     "text": [
      "            1  2  3  4  5      idtf\n",
      "cama        1  1  0  0  0  0.916291\n",
      "comoda      0  1  0  0  0  1.609438\n",
      "de          1  0  0  0  0  1.609438\n",
      "debajo      1  0  0  0  0  1.609438\n",
      "del         0  0  0  1  0  1.609438\n",
      "el          1  0  3  0  0  0.916291\n",
      "en          0  0  1  0  0  1.609438\n",
      "es          0  0  0  1  0  1.609438\n",
      "escondio    1  0  0  0  0  1.609438\n",
      "estaba      0  1  0  0  0  1.609438\n",
      "gato        1  0  1  0  1  0.510826\n",
      "importante  0  0  0  1  0  1.609438\n",
      "jardin      0  0  1  1  0  0.916291\n",
      "jugaron     0  0  1  0  0  1.609438\n",
      "la          1  1  0  1  0  0.510826\n",
      "limpia      0  1  0  0  0  1.609438\n",
      "limpieza    0  0  0  1  0  1.609438\n",
      "perro       0  0  1  0  0  1.609438\n",
      "se          1  0  0  0  0  1.609438\n",
      "y           0  1  1  0  0  0.916291\n"
     ]
    }
   ],
   "source": [
    "import numpy as np\n",
    "import pandas as pd\n",
    "from collections import defaultdict\n",
    "import matplotlib.pyplot as plt\n",
    "from sklearn.decomposition import PCA\n",
    "\n",
    "documents = [\n",
    "    \"El gato se escondió debajo de la cama.\",\n",
    "    \"La cama estaba limpia y cómoda.\",\n",
    "    \"El perro y el gato jugaron en el jardín.\",\n",
    "    \"La limpieza del jardín es importante.\"\n",
    "]\n",
    "\n",
    "query = \"gato\"\n",
    "\n",
    "REPLACEMENTS = (\n",
    "    (\"á\", \"a\"),\n",
    "    (\"é\", \"e\"),\n",
    "    (\"í\", \"i\"),\n",
    "    (\"ó\", \"o\"),\n",
    "    (\"ú\", \"u\"),\n",
    "    (\".\", \"\"),\n",
    "    (\",\", \"\"),\n",
    ")\n",
    "\n",
    "documents.append(query)\n",
    "\n",
    "def replace_punctuation(word: str) -> str:\n",
    "    for a, b in REPLACEMENTS:\n",
    "        word = word.replace(a, b).replace(a.upper(), b.upper())\n",
    "    return word\n",
    "\n",
    "# Representación TF\n",
    "terms = []\n",
    "term_frequencies = {}\n",
    "doc_index = 0\n",
    "\n",
    "for doc in documents:\n",
    "    words = doc.strip().split()\n",
    "    doc_index += 1\n",
    "    \n",
    "    # Initialize frequency dictionary for the current document\n",
    "    term_frequencies[doc_index] = defaultdict(int)\n",
    "    \n",
    "    for word in words:\n",
    "        word = word.lower()\n",
    "        word = replace_punctuation(word)\n",
    "        \n",
    "        if word not in terms:\n",
    "            terms.append(word)\n",
    "        \n",
    "        term_frequencies[doc_index][word] += 1\n",
    "\n",
    "matrix = pd.DataFrame(index=sorted(terms))\n",
    "for doc, frequencies in term_frequencies.items():\n",
    "    matrix[doc] = [frequencies.get(term, 0) for term in sorted(terms)]\n",
    "\n",
    "\n",
    "N = len(term_frequencies)\n",
    "dft = (matrix > 0).sum(axis=1)\n",
    "matrix[\"idtf\"] = np.log(N / dft)\n",
    "\n",
    "print(matrix)\n",
    "\n",
    "\n",
    "\n",
    "# Reducción PCA y visualización 3D"
   ]
  },
  {
   "cell_type": "code",
   "execution_count": 22,
   "id": "4147b279",
   "metadata": {},
   "outputs": [
    {
     "name": "stdout",
     "output_type": "stream",
     "text": [
      "                   1         2         3         4         5      idtf\n",
      "cama        0.916291  0.916291  0.000000  0.000000  0.000000  0.916291\n",
      "comoda      0.000000  1.609438  0.000000  0.000000  0.000000  1.609438\n",
      "de          1.609438  0.000000  0.000000  0.000000  0.000000  1.609438\n",
      "debajo      1.609438  0.000000  0.000000  0.000000  0.000000  1.609438\n",
      "del         0.000000  0.000000  0.000000  1.609438  0.000000  1.609438\n",
      "el          0.916291  0.000000  2.748872  0.000000  0.000000  0.916291\n",
      "en          0.000000  0.000000  1.609438  0.000000  0.000000  1.609438\n",
      "es          0.000000  0.000000  0.000000  1.609438  0.000000  1.609438\n",
      "escondio    1.609438  0.000000  0.000000  0.000000  0.000000  1.609438\n",
      "estaba      0.000000  1.609438  0.000000  0.000000  0.000000  1.609438\n",
      "gato        0.510826  0.000000  0.510826  0.000000  0.510826  0.510826\n",
      "importante  0.000000  0.000000  0.000000  1.609438  0.000000  1.609438\n",
      "jardin      0.000000  0.000000  0.916291  0.916291  0.000000  0.916291\n",
      "jugaron     0.000000  0.000000  1.609438  0.000000  0.000000  1.609438\n",
      "la          0.510826  0.510826  0.000000  0.510826  0.000000  0.510826\n",
      "limpia      0.000000  1.609438  0.000000  0.000000  0.000000  1.609438\n",
      "limpieza    0.000000  0.000000  0.000000  1.609438  0.000000  1.609438\n",
      "perro       0.000000  0.000000  1.609438  0.000000  0.000000  1.609438\n",
      "se          1.609438  0.000000  0.000000  0.000000  0.000000  1.609438\n",
      "y           0.000000  0.916291  0.916291  0.000000  0.000000  0.916291\n"
     ]
    }
   ],
   "source": [
    "# Representación TF-IDF\n",
    "\n",
    "# Ensure all document columns are of type float\n",
    "for doc in term_frequencies.keys():\n",
    "    matrix[doc] = matrix[doc].astype(float)\n",
    "\n",
    "# Perform the TF-IDF multiplication\n",
    "for doc, frequencies in term_frequencies.items():\n",
    "    for term in frequencies:\n",
    "        matrix.loc[term, doc] *= matrix.loc[term, \"idtf\"]\n",
    "\n",
    "print(matrix)"
   ]
  },
  {
   "cell_type": "code",
   "execution_count": 24,
   "id": "ec94f3be",
   "metadata": {},
   "outputs": [
    {
     "data": {
      "image/png": "[encoded data removed]",
      "text/plain": [
       "<Figure size 640x480 with 1 Axes>"
      ]
     },
     "metadata": {},
     "output_type": "display_data"
    }
   ],
   "source": [
    "# Reducción PCA y visualización 2D\n",
    "\n",
    "matrix = matrix.drop('idtf', axis=1)\n",
    "\n",
    "pca = PCA(n_components=2)\n",
    "docs_2d = pca.fit_transform(matrix.T)\n",
    "\n",
    "plt.scatter(docs_2d[:,0], docs_2d[:,1])\n",
    "for i, (x, y) in enumerate(docs_2d):\n",
    "    # plt.annotate(txt, (docs_2d[i,0], docs_2d[i,1]))\n",
    "    plt.arrow(0, 0, x, y, head_width=0.02, head_length=0.02, fc='blue', ec='blue', alpha=0.5)\n",
    "    plt.text(x, y, f\"D{i+1}\", fontsize=12, ha='right', va='bottom')\n",
    "\n",
    "\n",
    "plt.title(\"Documentos en espacio vectorial 2D (TF-IDF + PCA)\")\n",
    "plt.xlabel(\"PC1\")\n",
    "plt.ylabel(\"PC2\")\n",
    "plt.axhline(0, color='gray', lw=0.5, ls='--')\n",
    "plt.axvline(0, color='gray', lw=0.5, ls='--')\n",
    "plt.grid()\n",
    "plt.gca().set_aspect('equal', adjustable='box')\n",
    "plt.show()"
   ]
  },
  {
   "cell_type": "markdown",
   "id": "8736bea5c8c765cb",
   "metadata": {},
   "source": [
    "## Parte 2: Representación de la consulta como vector\n",
    "\n",
    "### Actividad\n",
    "1. Ingresa una consulta como texto.\n",
    "2. Representa la consulta en el mismo espacio vectorial que los documentos.\n",
    "3. Calcula similitud coseno entre la consulta y cada documento.\n",
    "4. Visualiza la consulta como un vector en el mismo espacio vectorial que los documentos."
   ]
  },
  {
   "cell_type": "code",
   "execution_count": null,
   "id": "2a574fb37d9da2fe",
   "metadata": {},
   "outputs": [],
   "source": []
  },
  {
   "cell_type": "markdown",
   "id": "79961ff9560fb01e",
   "metadata": {},
   "source": [
    "## Parte 3: Consulta por similitud y ranking de documentos\n",
    "\n",
    "### Actividad\n",
    "1. Con la misma representación de vectores, implementar una función que devuelva los documentos más relevantes a una consulta usando similitud coseno.\n",
    "2. Dibuja los vectores (de documentos y de consulta) como flechas desde el origen usando `plt.quiver()` o `plt.arrow()`"
   ]
  },
  {
   "cell_type": "code",
   "execution_count": null,
   "id": "15f49c2fcfe708cf",
   "metadata": {},
   "outputs": [],
   "source": []
  }
 ],
 "metadata": {
  "kernelspec": {
   "display_name": ".venv",
   "language": "python",
   "name": "python3"
  },
  "language_info": {
   "codemirror_mode": {
    "name": "ipython",
    "version": 3
   },
   "file_extension": ".py",
   "mimetype": "text/x-python",
   "name": "python",
   "nbconvert_exporter": "python",
   "pygments_lexer": "ipython3",
   "version": "3.12.9"
  }
 },
 "nbformat": 4,
 "nbformat_minor": 5
}
