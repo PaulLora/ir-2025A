{
 "cells": [
  {
   "cell_type": "markdown",
   "id": "bb15e9dd",
   "metadata": {},
   "source": [
    "Ejercicio 9: Usando API de Chatgpt"
   ]
  },
  {
   "cell_type": "code",
   "execution_count": 1,
   "id": "8ff6a426",
   "metadata": {},
   "outputs": [
    {
     "name": "stdout",
     "output_type": "stream",
     "text": [
      "Collecting openai\n",
      "  Downloading openai-1.93.0-py3-none-any.whl.metadata (29 kB)\n",
      "Collecting anyio<5,>=3.5.0 (from openai)\n",
      "  Downloading anyio-4.9.0-py3-none-any.whl.metadata (4.7 kB)\n",
      "Collecting distro<2,>=1.7.0 (from openai)\n",
      "  Downloading distro-1.9.0-py3-none-any.whl.metadata (6.8 kB)\n",
      "Collecting httpx<1,>=0.23.0 (from openai)\n",
      "  Downloading httpx-0.28.1-py3-none-any.whl.metadata (7.1 kB)\n",
      "Collecting jiter<1,>=0.4.0 (from openai)\n",
      "  Downloading jiter-0.10.0-cp312-cp312-macosx_11_0_arm64.whl.metadata (5.2 kB)\n",
      "Collecting pydantic<3,>=1.9.0 (from openai)\n",
      "  Downloading pydantic-2.11.7-py3-none-any.whl.metadata (67 kB)\n",
      "Collecting sniffio (from openai)\n",
      "  Downloading sniffio-1.3.1-py3-none-any.whl.metadata (3.9 kB)\n",
      "Requirement already satisfied: tqdm>4 in /Users/paullora/Desktop/EPN/ir/ir-2025A/.venv/lib/python3.12/site-packages (from openai) (4.67.1)\n",
      "Requirement already satisfied: typing-extensions<5,>=4.11 in /Users/paullora/Desktop/EPN/ir/ir-2025A/.venv/lib/python3.12/site-packages (from openai) (4.14.0)\n",
      "Requirement already satisfied: idna>=2.8 in /Users/paullora/Desktop/EPN/ir/ir-2025A/.venv/lib/python3.12/site-packages (from anyio<5,>=3.5.0->openai) (3.10)\n",
      "Requirement already satisfied: certifi in /Users/paullora/Desktop/EPN/ir/ir-2025A/.venv/lib/python3.12/site-packages (from httpx<1,>=0.23.0->openai) (2025.6.15)\n",
      "Collecting httpcore==1.* (from httpx<1,>=0.23.0->openai)\n",
      "  Downloading httpcore-1.0.9-py3-none-any.whl.metadata (21 kB)\n",
      "Collecting h11>=0.16 (from httpcore==1.*->httpx<1,>=0.23.0->openai)\n",
      "  Downloading h11-0.16.0-py3-none-any.whl.metadata (8.3 kB)\n",
      "Collecting annotated-types>=0.6.0 (from pydantic<3,>=1.9.0->openai)\n",
      "  Downloading annotated_types-0.7.0-py3-none-any.whl.metadata (15 kB)\n",
      "Collecting pydantic-core==2.33.2 (from pydantic<3,>=1.9.0->openai)\n",
      "  Downloading pydantic_core-2.33.2-cp312-cp312-macosx_11_0_arm64.whl.metadata (6.8 kB)\n",
      "Collecting typing-inspection>=0.4.0 (from pydantic<3,>=1.9.0->openai)\n",
      "  Downloading typing_inspection-0.4.1-py3-none-any.whl.metadata (2.6 kB)\n",
      "Downloading openai-1.93.0-py3-none-any.whl (755 kB)\n",
      "\u001b[2K   \u001b[90m━━━━━━━━━━━━━━━━━━━━━━━━━━━━━━━━━━━━━━━━\u001b[0m \u001b[32m755.0/755.0 kB\u001b[0m \u001b[31m11.9 MB/s\u001b[0m eta \u001b[36m0:00:00\u001b[0m\n",
      "\u001b[?25hDownloading anyio-4.9.0-py3-none-any.whl (100 kB)\n",
      "Downloading distro-1.9.0-py3-none-any.whl (20 kB)\n",
      "Downloading httpx-0.28.1-py3-none-any.whl (73 kB)\n",
      "Downloading httpcore-1.0.9-py3-none-any.whl (78 kB)\n",
      "Downloading jiter-0.10.0-cp312-cp312-macosx_11_0_arm64.whl (320 kB)\n",
      "Downloading pydantic-2.11.7-py3-none-any.whl (444 kB)\n",
      "Downloading pydantic_core-2.33.2-cp312-cp312-macosx_11_0_arm64.whl (1.8 MB)\n",
      "\u001b[2K   \u001b[90m━━━━━━━━━━━━━━━━━━━━━━━━━━━━━━━━━━━━━━━━\u001b[0m \u001b[32m1.8/1.8 MB\u001b[0m \u001b[31m21.4 MB/s\u001b[0m eta \u001b[36m0:00:00\u001b[0m\n",
      "\u001b[?25hDownloading annotated_types-0.7.0-py3-none-any.whl (13 kB)\n",
      "Downloading h11-0.16.0-py3-none-any.whl (37 kB)\n",
      "Downloading sniffio-1.3.1-py3-none-any.whl (10 kB)\n",
      "Downloading typing_inspection-0.4.1-py3-none-any.whl (14 kB)\n",
      "Installing collected packages: typing-inspection, sniffio, pydantic-core, jiter, h11, distro, annotated-types, pydantic, httpcore, anyio, httpx, openai\n",
      "\u001b[2K   \u001b[90m━━━━━━━━━━━━━━━━━━━━━━━━━━━━━━━━━━━━━━━━\u001b[0m \u001b[32m12/12\u001b[0m [openai]11/12\u001b[0m [openai]c]\n",
      "\u001b[1A\u001b[2KSuccessfully installed annotated-types-0.7.0 anyio-4.9.0 distro-1.9.0 h11-0.16.0 httpcore-1.0.9 httpx-0.28.1 jiter-0.10.0 openai-1.93.0 pydantic-2.11.7 pydantic-core-2.33.2 sniffio-1.3.1 typing-inspection-0.4.1\n",
      "\n",
      "\u001b[1m[\u001b[0m\u001b[34;49mnotice\u001b[0m\u001b[1;39;49m]\u001b[0m\u001b[39;49m A new release of pip is available: \u001b[0m\u001b[31;49m25.1\u001b[0m\u001b[39;49m -> \u001b[0m\u001b[32;49m25.1.1\u001b[0m\n",
      "\u001b[1m[\u001b[0m\u001b[34;49mnotice\u001b[0m\u001b[1;39;49m]\u001b[0m\u001b[39;49m To update, run: \u001b[0m\u001b[32;49mpip install --upgrade pip\u001b[0m\n",
      "Note: you may need to restart the kernel to use updated packages.\n"
     ]
    }
   ],
   "source": [
    "%pip install openai"
   ]
  },
  {
   "cell_type": "code",
   "execution_count": null,
   "id": "194b2536",
   "metadata": {},
   "outputs": [],
   "source": [
    "from openai import OpenAI"
   ]
  },
  {
   "cell_type": "code",
   "execution_count": null,
   "id": "56518e83",
   "metadata": {},
   "outputs": [
    {
     "name": "stdout",
     "output_type": "stream",
     "text": [
      "Under a midnight sky sprinkled with stars, a gentle unicorn tiptoed through a sparkling forest, delivering sweet dreams to every sleepy creature she met.\n"
     ]
    }
   ],
   "source": [
    "client = OpenAI(api_key=\"key\")\n",
    "\n",
    "response = client.responses.create(\n",
    "    model=\"gpt-4.1\",\n",
    "    input=\"Write a one-sentence bedtime story about a unicorn.\"\n",
    ")\n",
    "\n",
    "print(response.output_text)"
   ]
  },
  {
   "cell_type": "code",
   "execution_count": 8,
   "id": "9f05b926",
   "metadata": {},
   "outputs": [],
   "source": [
    "from sklearn.datasets import fetch_20newsgroups\n",
    "\n",
    "newsgroups = fetch_20newsgroups(subset='all', remove=('headers', 'footers', 'quotes'))\n",
    "newsgroups_data = newsgroups.data  # Limit to first 10 documents for brevity"
   ]
  },
  {
   "cell_type": "code",
   "execution_count": 7,
   "id": "447afc10",
   "metadata": {},
   "outputs": [
    {
     "data": {
      "text/plain": [
       "[\"\\n\\nI am sure some bashers of Pens fans are pretty confused about the lack\\nof any kind of posts about the recent Pens massacre of the Devils. Actually,\\nI am  bit puzzled too and a bit relieved. However, I am going to put an end\\nto non-PIttsburghers' relief with a bit of praise for the Pens. Man, they\\nare killing those Devils worse than I thought. Jagr just showed you why\\nhe is much better than his regular season stats. He is also a lot\\nfo fun to watch in the playoffs. Bowman should let JAgr have a lot of\\nfun in the next couple of games since the Pens are going to beat the pulp out of Jersey anyway. I was very disappointed not to see the Islanders lose the final\\nregular season game.          PENS RULE!!!\\n\\n\",\n",
       " 'My brother is in the market for a high-performance video card that supports\\nVESA local bus with 1-2MB RAM.  Does anyone have suggestions/ideas on:\\n\\n  - Diamond Stealth Pro Local Bus\\n\\n  - Orchid Farenheit 1280\\n\\n  - ATI Graphics Ultra Pro\\n\\n  - Any other high-performance VLB card\\n\\n\\nPlease post or email.  Thank you!\\n\\n  - Matt\\n',\n",
       " '\\n\\n\\n\\n\\tFinally you said what you dream about. Mediterranean???? That was new....\\n\\tThe area will be \"greater\" after some years, like your \"holocaust\" numbers......\\n\\n\\n\\n\\n\\t\\t*****\\n\\tIs\\'t July in USA now????? Here in Sweden it\\'s April and still cold.\\n\\tOr have you changed your calendar???\\n\\n\\n\\t\\t\\t\\t\\t\\t    ****************\\n\\t\\t\\t\\t\\t\\t    ******************\\n\\t\\t\\t    ***************\\n\\n\\n\\tNOTHING OF THE MENTIONED IS TRUE, BUT LET SAY IT\\'s TRUE.\\n\\t\\n\\tSHALL THE AZERI WOMEN AND CHILDREN GOING TO PAY THE PRICE WITH\\n\\t\\t\\t\\t\\t\\t    **************\\n\\tBEING RAPED, KILLED AND TORTURED BY THE ARMENIANS??????????\\n\\t\\n\\tHAVE YOU HEARDED SOMETHING CALLED: \"GENEVA CONVENTION\"???????\\n\\tYOU FACIST!!!!!\\n\\n\\n\\n\\tOhhh i forgot, this is how Armenians fight, nobody has forgot\\n\\tyou killings, rapings and torture against the Kurds and Turks once\\n\\tupon a time!\\n      \\n       \\n\\n\\nOhhhh so swedish RedCross workers do lie they too? What ever you say\\n\"regional killer\", if you don\\'t like the person then shoot him that\\'s your policy.....l\\n\\n\\n\\t\\t\\t\\t\\t\\t\\t\\t\\t\\ti\\n\\t\\t\\t\\t\\t\\t\\t\\t\\t\\ti\\n\\t\\t\\t\\t\\t\\t\\t\\t\\t\\ti\\n\\tConfused?????\\t\\t\\t\\t\\t\\t\\t\\ti\\n\\t\\t\\t\\t\\t\\t\\t\\t\\t\\ti\\n        Search Turkish planes? You don\\'t know what you are talking about.\\ti\\n        Turkey\\'s government has announced that it\\'s giving weapons  <-----------i\\n        to Azerbadjan since Armenia started to attack Azerbadjan\\t\\t\\n        it self, not the Karabag province. So why search a plane for weapons\\t\\n        since it\\'s content is announced to be weapons?   \\n\\n\\tIf there is one that\\'s confused then that\\'s you! We have the right (and we do)\\n\\tto give weapons to the Azeris, since Armenians started the fight in Azerbadjan!\\n \\n\\n\\n\\tShoot down with what? Armenian bread and butter? Or the arms and personel \\n\\tof the Russian army?\\n\\n\\n',\n",
       " \"\\nThink!\\n\\nIt's the SCSI card doing the DMA transfers NOT the disks...\\n\\nThe SCSI card can do DMA transfers containing data from any of the SCSI devices\\nit is attached when it wants to.\\n\\nAn important feature of SCSI is the ability to detach a device. This frees the\\nSCSI bus for other devices. This is typically used in a multi-tasking OS to\\nstart transfers on several devices. While each device is seeking the data the\\nbus is free for other commands and data transfers. When the devices are\\nready to transfer the data they can aquire the bus and send the data.\\n\\nOn an IDE bus when you start a transfer the bus is busy until the disk has seeked\\nthe data and transfered it. This is typically a 10-20ms second lock out for other\\nprocesses wanting the bus irrespective of transfer time.\\n\",\n",
       " '1)    I have an old Jasmine drive which I cannot use with my new system.\\n My understanding is that I have to upsate the driver with a more modern\\none in order to gain compatability with system 7.0.1.  does anyone know\\nof an inexpensive program to do this?  ( I have seen formatters for <$20\\nbuit have no idea if they will work)\\n \\n2)     I have another ancient device, this one a tape drive for which\\nthe back utility freezes the system if I try to use it.  THe drive is a\\njasmine direct tape (bought used for $150 w/ 6 tapes, techmar\\nmechanism).  Essentially I have the same question as above, anyone know\\nof an inexpensive beckup utility I can use with system 7.0.1',\n",
       " '\\n\\nBack in high school I worked as a lab assistant for a bunch of experimental\\npsychologists at Bell Labs.  When they were doing visual perception and\\nmemory experiments, they used vector-type displays, with 1-millisecond\\nrefresh rates common.\\n\\nSo your case of 1/200th sec is quite practical, and the experimenters were\\nprobably sure that it was 5 milliseconds, not 4 or 6 either.\\n\\n\\nSteve',\n",
       " '\\n\\nAE is in Dallas...try 214/241-6060 or 214/241-0055.  Tech support may be on\\ntheir own line, but one of these should get you started.',\n",
       " \"\\n[stuff deleted]\\n\\nOk, here's the solution to your problem.  Move to Canada.  Yesterday I was able\\nto watch FOUR games...the NJ-PITT at 1:00 on ABC, LA-CAL at 3:00 (CBC), \\nBUFF-BOS at 7:00 (TSN and FOX), and MON-QUE at 7:30 (CBC).  I think that if\\neach series goes its max I could be watching hockey playoffs for 40-some odd\\nconsecutive nights (I haven't counted so that's a pure guess).\\n\\nI have two tv's in my house, and I set them up side-by-side to watch MON-QUE\\nand keep an eye on BOS-BUFF at the same time.  I did the same for the two\\nafternoon games.\\n\\nBtw, those ABC commentaters were great!  I was quite impressed; they seemed\\nto know that their audience wasn't likely to be well-schooled in hockey lore\\nand they did an excellent job.  They were quite impartial also, IMO.\\n\\n\",\n",
       " \"\\n\\n\\nYeah, it's the second one.  And I believe that price too.  I've been trying\\nto get a good look at it on the Bruin-Sabre telecasts, and wow! does it ever\\nlook good.  Whoever did that paint job knew what they were doing.  And given\\nFuhr's play since he got it, I bet the Bruins are wishing he didn't have it:)\\n\",\n",
       " '\\nIf a Christian means someone who believes in the divinity of Jesus, it is safe\\nto say that Jesus was a Christian.\\n--\\n\"On the first day after Christmas my truelove served to me...  Leftover Turkey!\\nOn the second day after Christmas my truelove served to me...  Turkey Casserole\\n    that she made from Leftover Turkey.\\n[days 3-4 deleted] ...  Flaming Turkey Wings! ...\\n   -- Pizza Hut commercial (and M*tlu/A*gic bait)']"
      ]
     },
     "execution_count": 7,
     "metadata": {},
     "output_type": "execute_result"
    }
   ],
   "source": [
    "newsgroups_data"
   ]
  },
  {
   "cell_type": "code",
   "execution_count": 12,
   "id": "12c97af8",
   "metadata": {},
   "outputs": [
    {
     "data": {
      "text/html": [
       "<div>\n",
       "<style scoped>\n",
       "    .dataframe tbody tr th:only-of-type {\n",
       "        vertical-align: middle;\n",
       "    }\n",
       "\n",
       "    .dataframe tbody tr th {\n",
       "        vertical-align: top;\n",
       "    }\n",
       "\n",
       "    .dataframe thead th {\n",
       "        text-align: right;\n",
       "    }\n",
       "</style>\n",
       "<table border=\"1\" class=\"dataframe\">\n",
       "  <thead>\n",
       "    <tr style=\"text-align: right;\">\n",
       "      <th></th>\n",
       "      <th>raw</th>\n",
       "    </tr>\n",
       "  </thead>\n",
       "  <tbody>\n",
       "    <tr>\n",
       "      <th>0</th>\n",
       "      <td>\\n\\nI am sure some bashers of Pens fans are pr...</td>\n",
       "    </tr>\n",
       "    <tr>\n",
       "      <th>1</th>\n",
       "      <td>My brother is in the market for a high-perform...</td>\n",
       "    </tr>\n",
       "    <tr>\n",
       "      <th>2</th>\n",
       "      <td>\\n\\n\\n\\n\\tFinally you said what you dream abou...</td>\n",
       "    </tr>\n",
       "    <tr>\n",
       "      <th>3</th>\n",
       "      <td>\\nThink!\\n\\nIt's the SCSI card doing the DMA t...</td>\n",
       "    </tr>\n",
       "    <tr>\n",
       "      <th>4</th>\n",
       "      <td>1)    I have an old Jasmine drive which I cann...</td>\n",
       "    </tr>\n",
       "    <tr>\n",
       "      <th>...</th>\n",
       "      <td>...</td>\n",
       "    </tr>\n",
       "    <tr>\n",
       "      <th>18841</th>\n",
       "      <td>DN&gt; From: nyeda@cnsvax.uwec.edu (David Nye)\\nD...</td>\n",
       "    </tr>\n",
       "    <tr>\n",
       "      <th>18842</th>\n",
       "      <td>\\nNot in isolated ground recepticles (usually ...</td>\n",
       "    </tr>\n",
       "    <tr>\n",
       "      <th>18843</th>\n",
       "      <td>I just installed a DX2-66 CPU in a clone mothe...</td>\n",
       "    </tr>\n",
       "    <tr>\n",
       "      <th>18844</th>\n",
       "      <td>\\nWouldn't this require a hyper-sphere.  In 3-...</td>\n",
       "    </tr>\n",
       "    <tr>\n",
       "      <th>18845</th>\n",
       "      <td>After a tip from Gary Crum (crum@fcom.cc.utah....</td>\n",
       "    </tr>\n",
       "  </tbody>\n",
       "</table>\n",
       "<p>18846 rows × 1 columns</p>\n",
       "</div>"
      ],
      "text/plain": [
       "                                                     raw\n",
       "0      \\n\\nI am sure some bashers of Pens fans are pr...\n",
       "1      My brother is in the market for a high-perform...\n",
       "2      \\n\\n\\n\\n\\tFinally you said what you dream abou...\n",
       "3      \\nThink!\\n\\nIt's the SCSI card doing the DMA t...\n",
       "4      1)    I have an old Jasmine drive which I cann...\n",
       "...                                                  ...\n",
       "18841  DN> From: nyeda@cnsvax.uwec.edu (David Nye)\\nD...\n",
       "18842  \\nNot in isolated ground recepticles (usually ...\n",
       "18843  I just installed a DX2-66 CPU in a clone mothe...\n",
       "18844  \\nWouldn't this require a hyper-sphere.  In 3-...\n",
       "18845  After a tip from Gary Crum (crum@fcom.cc.utah....\n",
       "\n",
       "[18846 rows x 1 columns]"
      ]
     },
     "execution_count": 12,
     "metadata": {},
     "output_type": "execute_result"
    }
   ],
   "source": [
    "import pandas as pd\n",
    "\n",
    "newsgroups_df = pd.DataFrame(newsgroups_data, columns=['raw'])\n",
    "newsgroups_df"
   ]
  },
  {
   "cell_type": "code",
   "execution_count": null,
   "id": "88a52ea4",
   "metadata": {},
   "outputs": [
    {
     "name": "stderr",
     "output_type": "stream",
     "text": [
      "/Users/paullora/Desktop/EPN/ir/ir-2025A/.venv/lib/python3.12/site-packages/tqdm/auto.py:21: TqdmWarning: IProgress not found. Please update jupyter and ipywidgets. See https://ipywidgets.readthedocs.io/en/stable/user_install.html\n",
      "  from .autonotebook import tqdm as notebook_tqdm\n"
     ]
    }
   ],
   "source": [
    "from sentence_transformers import SentenceTransformer"
   ]
  },
  {
   "cell_type": "code",
   "execution_count": null,
   "id": "7a520a7f",
   "metadata": {},
   "outputs": [],
   "source": [
    "model = SentenceTransformer('all-MiniLM-L6-v2')\n",
    "embeddings = model.encode(newsgroups_data, convert_to_numpy=True)"
   ]
  },
  {
   "cell_type": "code",
   "execution_count": 31,
   "id": "ec8b46a0",
   "metadata": {},
   "outputs": [
    {
     "data": {
      "text/plain": [
       "array([[-4.19756547e-02, -1.32821249e-02, -3.84520628e-02,\n",
       "         4.70161512e-02, -4.22213376e-02,  9.95708629e-03,\n",
       "         1.65552616e-01, -8.08365643e-03,  7.46925324e-02,\n",
       "        -4.19138111e-02, -1.35432594e-04, -4.13294435e-02,\n",
       "        -2.45801434e-02, -2.45018471e-02, -2.68594231e-02,\n",
       "        -6.07909411e-02,  5.55869266e-02, -6.74602166e-02,\n",
       "        -3.80849503e-02, -9.65465158e-02, -1.52622506e-01,\n",
       "         2.72851274e-03,  4.57986668e-02,  1.00334291e-03,\n",
       "        -3.66761759e-02,  6.42383918e-02,  2.05618050e-02,\n",
       "         3.25725190e-02, -2.97653638e-02, -8.06936547e-02,\n",
       "         3.97887528e-02, -9.64501128e-03, -2.50413228e-04,\n",
       "        -2.05164286e-03, -4.87854257e-02, -1.74946990e-02,\n",
       "         3.42607475e-03, -4.67466190e-02,  7.17530102e-02,\n",
       "         6.85146172e-03,  1.77733768e-02, -8.47467557e-02,\n",
       "         6.91125467e-02, -4.46847565e-02,  4.89137582e-02,\n",
       "         4.59626168e-02,  1.33782793e-02,  5.71032129e-02,\n",
       "         5.12409657e-02, -3.11464295e-02, -3.81298028e-02,\n",
       "        -2.83781309e-02, -7.45173469e-02,  4.83146161e-02,\n",
       "         3.65504622e-02,  1.05488390e-01, -8.65618885e-02,\n",
       "        -3.08297407e-02, -8.44484195e-02, -3.34524289e-02,\n",
       "        -3.34431417e-02,  1.15221804e-02, -1.02108705e-03,\n",
       "         4.53188680e-02, -2.27687065e-03, -4.86774705e-02,\n",
       "        -6.18122518e-03,  6.67835101e-02, -8.51964520e-04,\n",
       "         7.31748529e-03,  2.05127876e-02, -1.39501197e-02,\n",
       "        -1.14512360e-02,  8.93086269e-02, -2.13181060e-02,\n",
       "         2.39027097e-04,  6.88562766e-02, -3.52003425e-02,\n",
       "         1.01798952e-01, -1.99557729e-02, -2.97187548e-02,\n",
       "        -5.31852171e-02, -8.71230587e-02,  3.65564749e-02,\n",
       "        -2.46904958e-02, -1.96080152e-02,  9.02895164e-03,\n",
       "         3.67419305e-03, -5.25939763e-02, -1.85718492e-03,\n",
       "         2.97688376e-02, -1.07907811e-02,  2.15670932e-02,\n",
       "         4.45865840e-02, -2.06830818e-02,  5.92286810e-02,\n",
       "         1.62552707e-02, -1.01144813e-01, -6.33084923e-02,\n",
       "         1.90248460e-01, -2.23533399e-02,  3.79685313e-02,\n",
       "        -5.34853083e-04, -4.85420935e-02,  2.47989278e-02,\n",
       "         5.38110547e-03, -2.41031218e-03,  5.28985914e-03,\n",
       "         3.23265344e-02, -9.97553393e-03, -8.94706920e-02,\n",
       "         3.77703421e-02, -4.31339145e-02, -3.30361761e-02,\n",
       "        -2.19292510e-02, -6.01897109e-03,  2.98423376e-02,\n",
       "        -5.73032163e-02, -4.92697991e-02,  3.79441567e-02,\n",
       "        -1.87885314e-02,  1.02511402e-02,  8.43557157e-03,\n",
       "         2.59730835e-02, -4.92720678e-02,  4.45642654e-04,\n",
       "        -6.20731227e-02, -3.88900331e-33, -6.70419028e-03,\n",
       "        -9.26251560e-02,  1.00073218e-01, -1.43903475e-02,\n",
       "         6.39919341e-02,  3.14163975e-02,  3.12870033e-02,\n",
       "        -4.99751791e-02, -1.02451760e-02,  5.58535121e-02,\n",
       "        -2.32003927e-02, -4.89106961e-02, -5.61568961e-02,\n",
       "        -1.41449375e-02,  1.43611699e-01,  1.61664989e-02,\n",
       "        -5.03705395e-03,  4.00848575e-02, -8.99858400e-03,\n",
       "        -2.51341835e-02, -5.65019920e-02,  1.19071878e-01,\n",
       "         6.58477023e-02,  6.17068969e-02,  1.68617442e-02,\n",
       "        -1.29285082e-01, -1.17963720e-02, -7.47042000e-02,\n",
       "        -7.15052569e-03,  1.75503399e-02,  1.90311801e-02,\n",
       "         4.96940613e-02, -3.09374984e-02, -3.46119441e-02,\n",
       "        -4.51906510e-02, -8.08040798e-02,  3.44998017e-02,\n",
       "        -9.63759869e-02,  1.58680603e-02,  6.66207224e-02,\n",
       "         6.60661384e-02, -6.58667758e-02,  1.37010952e-02,\n",
       "         6.53675124e-02, -2.31306087e-02, -2.26815268e-02,\n",
       "         5.41624352e-02,  2.03854535e-02, -8.54476318e-02,\n",
       "         1.77268256e-02,  3.70061584e-02, -5.68684749e-02,\n",
       "         1.39468871e-02, -3.06904782e-02,  5.14117396e-03,\n",
       "        -6.66763261e-02,  4.09583114e-02,  1.78204663e-02,\n",
       "        -3.33844358e-03,  1.37466490e-02, -8.86217058e-02,\n",
       "         6.16776533e-02,  8.30867514e-03,  7.84992240e-03,\n",
       "         3.33187059e-02, -7.28124157e-02, -5.73986620e-02,\n",
       "        -4.78945449e-02,  1.15356985e-02,  2.42887065e-02,\n",
       "         6.28966689e-02, -5.85769601e-02,  8.46506804e-02,\n",
       "        -7.83052221e-02,  3.66799645e-02,  4.38275933e-02,\n",
       "        -5.76585531e-02,  3.41052972e-02,  5.47822118e-02,\n",
       "        -2.76496410e-02,  1.39758857e-02,  6.91423789e-02,\n",
       "         3.52562609e-04,  8.12785551e-02, -1.84380803e-02,\n",
       "         1.11839078e-01, -5.43224961e-02, -8.24228153e-02,\n",
       "         1.12061918e-01, -1.89738255e-02, -2.38781292e-02,\n",
       "        -8.98253731e-03,  8.83123204e-02, -7.19249845e-02,\n",
       "        -6.75120279e-02,  3.84664841e-33, -8.25096443e-02,\n",
       "        -1.99168008e-02, -7.61545971e-02,  1.45565510e-01,\n",
       "         3.28091048e-02, -7.81232938e-02,  1.02846539e-02,\n",
       "         1.94572546e-02,  3.69704477e-02, -2.15060972e-02,\n",
       "        -4.39810231e-02, -5.64517304e-02,  3.62578370e-02,\n",
       "        -1.96332019e-02,  2.27657538e-02,  6.89513907e-02,\n",
       "         5.16929068e-02,  3.04890238e-02,  2.59393677e-02,\n",
       "         1.48469796e-02, -5.50221354e-02, -9.18508843e-02,\n",
       "         1.47695430e-02,  2.72067413e-02, -1.02783516e-02,\n",
       "         7.13962987e-02,  3.69772799e-02,  6.52020574e-02,\n",
       "        -2.74680872e-02, -5.53778820e-02,  1.17548080e-02,\n",
       "        -5.01937196e-02,  2.76440494e-02, -3.64718735e-02,\n",
       "         5.79445390e-03,  1.06860071e-01,  1.10064507e-01,\n",
       "        -5.12539037e-02,  6.19146647e-03, -2.40084492e-02,\n",
       "         7.10239261e-02,  2.48052645e-02,  2.42214277e-02,\n",
       "         1.48066267e-01,  5.10481745e-03, -1.26414131e-02,\n",
       "        -2.64023263e-02, -6.20513409e-03,  1.85400564e-02,\n",
       "         2.76945010e-02, -6.99140877e-02, -7.61438236e-02,\n",
       "         5.14482260e-02, -2.80542877e-02,  2.03290824e-02,\n",
       "        -1.13508655e-02, -7.33161345e-02,  3.15201916e-02,\n",
       "         3.49556059e-02,  3.97328474e-02,  1.36728324e-02,\n",
       "         6.78862855e-02,  1.93141997e-02,  6.36090636e-02,\n",
       "         4.49653640e-02,  4.35281359e-02, -4.07687388e-02,\n",
       "        -9.50311590e-03,  3.09571829e-02, -4.13629822e-02,\n",
       "         4.58909851e-03,  4.55239452e-02,  1.38499623e-03,\n",
       "         3.46073434e-02, -6.17940761e-02,  3.94916162e-02,\n",
       "        -3.35370675e-02,  1.60063114e-02,  3.71376798e-02,\n",
       "         1.42724961e-02, -2.03017821e-03, -1.09642938e-01,\n",
       "        -6.39854074e-02, -1.11776618e-02, -3.27648371e-02,\n",
       "        -2.14863550e-02,  1.28022758e-02,  9.62839648e-02,\n",
       "         3.43875103e-02, -3.93541995e-03,  8.04869644e-03,\n",
       "        -1.94752049e-02, -6.46185828e-03,  3.89292985e-02,\n",
       "        -1.76647101e-02, -1.16194379e-08,  7.56308297e-03,\n",
       "        -6.63757920e-02, -2.65228152e-02,  3.79545465e-02,\n",
       "         1.24849051e-01, -1.92943565e-03, -2.72441301e-02,\n",
       "        -4.32117432e-02,  1.14002518e-01,  2.89724786e-02,\n",
       "        -3.01218145e-02,  1.96563732e-02,  6.61743432e-02,\n",
       "         3.32594588e-02, -6.46019494e-03,  1.27904983e-02,\n",
       "         2.38467027e-02, -3.63020636e-02, -1.45491147e-02,\n",
       "         4.06220928e-02, -1.46424281e-03,  6.41869083e-02,\n",
       "        -2.39262488e-02,  6.89584948e-03,  3.06828748e-02,\n",
       "        -6.39015809e-02, -5.22759836e-03,  1.20644137e-01,\n",
       "         3.69508006e-02,  1.57669429e-02, -4.23237830e-02,\n",
       "         2.49996688e-03, -4.90809754e-02,  1.65594332e-02,\n",
       "         1.70744471e-02, -8.86039436e-02,  1.55919893e-02,\n",
       "        -3.23064029e-02,  3.74840684e-02, -3.65808159e-02,\n",
       "        -7.33003626e-03,  4.53816168e-02,  3.64829041e-03,\n",
       "        -7.26380348e-02, -4.52942066e-02, -4.47489806e-02,\n",
       "        -5.74088022e-02, -2.98425313e-02, -7.83183575e-02,\n",
       "        -5.41303307e-02,  3.34292538e-02,  1.46944104e-02,\n",
       "         6.32985309e-02,  6.88213259e-02,  2.51098704e-02,\n",
       "        -4.96632326e-03,  2.54583210e-02,  4.74606007e-02,\n",
       "        -1.85194053e-02,  3.97696681e-02,  2.99419537e-02,\n",
       "         5.52991144e-02,  3.17043392e-03,  6.26146048e-02]], dtype=float32)"
      ]
     },
     "execution_count": 31,
     "metadata": {},
     "output_type": "execute_result"
    }
   ],
   "source": [
    "query = \"chicken\"\n",
    "query_embedding = model.encode([query], convert_to_numpy=True)\n",
    "query_embedding"
   ]
  },
  {
   "cell_type": "code",
   "execution_count": 32,
   "id": "9a80c1d0",
   "metadata": {},
   "outputs": [
    {
     "data": {
      "text/plain": [
       "True"
      ]
     },
     "execution_count": 32,
     "metadata": {},
     "output_type": "execute_result"
    }
   ],
   "source": [
    "import faiss\n",
    "index = faiss.IndexFlatL2(embeddings.shape[1])\n",
    "index.add(embeddings)\n",
    "\n",
    "index.is_trained\n"
   ]
  },
  {
   "cell_type": "code",
   "execution_count": 33,
   "id": "4fb10e8a",
   "metadata": {},
   "outputs": [],
   "source": [
    "# add the embeddings to the df\n",
    "newsgroups_df['embeddings'] = embeddings.tolist()"
   ]
  },
  {
   "cell_type": "code",
   "execution_count": 27,
   "id": "beabc8bc",
   "metadata": {},
   "outputs": [
    {
     "data": {
      "text/html": [
       "<div>\n",
       "<style scoped>\n",
       "    .dataframe tbody tr th:only-of-type {\n",
       "        vertical-align: middle;\n",
       "    }\n",
       "\n",
       "    .dataframe tbody tr th {\n",
       "        vertical-align: top;\n",
       "    }\n",
       "\n",
       "    .dataframe thead th {\n",
       "        text-align: right;\n",
       "    }\n",
       "</style>\n",
       "<table border=\"1\" class=\"dataframe\">\n",
       "  <thead>\n",
       "    <tr style=\"text-align: right;\">\n",
       "      <th></th>\n",
       "      <th>raw</th>\n",
       "      <th>embeddings</th>\n",
       "    </tr>\n",
       "  </thead>\n",
       "  <tbody>\n",
       "    <tr>\n",
       "      <th>0</th>\n",
       "      <td>\\n\\nI am sure some bashers of Pens fans are pr...</td>\n",
       "      <td>[0.002077988348901272, 0.02345035783946514, 0....</td>\n",
       "    </tr>\n",
       "    <tr>\n",
       "      <th>1</th>\n",
       "      <td>My brother is in the market for a high-perform...</td>\n",
       "      <td>[0.050060294568538666, 0.02698092721402645, -0...</td>\n",
       "    </tr>\n",
       "    <tr>\n",
       "      <th>2</th>\n",
       "      <td>\\n\\n\\n\\n\\tFinally you said what you dream abou...</td>\n",
       "      <td>[0.01640472561120987, 0.08100048452615738, -0....</td>\n",
       "    </tr>\n",
       "    <tr>\n",
       "      <th>3</th>\n",
       "      <td>\\nThink!\\n\\nIt's the SCSI card doing the DMA t...</td>\n",
       "      <td>[-0.01939145289361477, 0.011494372971355915, -...</td>\n",
       "    </tr>\n",
       "    <tr>\n",
       "      <th>4</th>\n",
       "      <td>1)    I have an old Jasmine drive which I cann...</td>\n",
       "      <td>[-0.039287108927965164, -0.05540281534194946, ...</td>\n",
       "    </tr>\n",
       "    <tr>\n",
       "      <th>...</th>\n",
       "      <td>...</td>\n",
       "      <td>...</td>\n",
       "    </tr>\n",
       "    <tr>\n",
       "      <th>18841</th>\n",
       "      <td>DN&gt; From: nyeda@cnsvax.uwec.edu (David Nye)\\nD...</td>\n",
       "      <td>[-0.036913804709911346, -0.008604913018643856,...</td>\n",
       "    </tr>\n",
       "    <tr>\n",
       "      <th>18842</th>\n",
       "      <td>\\nNot in isolated ground recepticles (usually ...</td>\n",
       "      <td>[-0.012171708978712559, -0.05613764375448227, ...</td>\n",
       "    </tr>\n",
       "    <tr>\n",
       "      <th>18843</th>\n",
       "      <td>I just installed a DX2-66 CPU in a clone mothe...</td>\n",
       "      <td>[-0.0050908601842820644, 0.01817270927131176, ...</td>\n",
       "    </tr>\n",
       "    <tr>\n",
       "      <th>18844</th>\n",
       "      <td>\\nWouldn't this require a hyper-sphere.  In 3-...</td>\n",
       "      <td>[0.03508159890770912, -0.058429740369319916, -...</td>\n",
       "    </tr>\n",
       "    <tr>\n",
       "      <th>18845</th>\n",
       "      <td>After a tip from Gary Crum (crum@fcom.cc.utah....</td>\n",
       "      <td>[-0.06498070061206818, -0.011337235569953918, ...</td>\n",
       "    </tr>\n",
       "  </tbody>\n",
       "</table>\n",
       "<p>18846 rows × 2 columns</p>\n",
       "</div>"
      ],
      "text/plain": [
       "                                                     raw                                         embeddings\n",
       "0      \\n\\nI am sure some bashers of Pens fans are pr...  [0.002077988348901272, 0.02345035783946514, 0....\n",
       "1      My brother is in the market for a high-perform...  [0.050060294568538666, 0.02698092721402645, -0...\n",
       "2      \\n\\n\\n\\n\\tFinally you said what you dream abou...  [0.01640472561120987, 0.08100048452615738, -0....\n",
       "3      \\nThink!\\n\\nIt's the SCSI card doing the DMA t...  [-0.01939145289361477, 0.011494372971355915, -...\n",
       "4      1)    I have an old Jasmine drive which I cann...  [-0.039287108927965164, -0.05540281534194946, ...\n",
       "...                                                  ...                                                ...\n",
       "18841  DN> From: nyeda@cnsvax.uwec.edu (David Nye)\\nD...  [-0.036913804709911346, -0.008604913018643856,...\n",
       "18842  \\nNot in isolated ground recepticles (usually ...  [-0.012171708978712559, -0.05613764375448227, ...\n",
       "18843  I just installed a DX2-66 CPU in a clone mothe...  [-0.0050908601842820644, 0.01817270927131176, ...\n",
       "18844  \\nWouldn't this require a hyper-sphere.  In 3-...  [0.03508159890770912, -0.058429740369319916, -...\n",
       "18845  After a tip from Gary Crum (crum@fcom.cc.utah....  [-0.06498070061206818, -0.011337235569953918, ...\n",
       "\n",
       "[18846 rows x 2 columns]"
      ]
     },
     "execution_count": 27,
     "metadata": {},
     "output_type": "execute_result"
    }
   ],
   "source": [
    "newsgroups_df"
   ]
  },
  {
   "cell_type": "code",
   "execution_count": 34,
   "id": "d1d78acf",
   "metadata": {},
   "outputs": [],
   "source": [
    "top_k = 5\n",
    "distances, indices = index.search(query_embedding, top_k)"
   ]
  },
  {
   "cell_type": "code",
   "execution_count": 35,
   "id": "426091f6",
   "metadata": {},
   "outputs": [
    {
     "data": {
      "text/plain": [
       "array([[1743,    9, 2277, 1315, 6471]])"
      ]
     },
     "execution_count": 35,
     "metadata": {},
     "output_type": "execute_result"
    }
   ],
   "source": [
    "indices"
   ]
  },
  {
   "cell_type": "code",
   "execution_count": 36,
   "id": "ca8c9ec9",
   "metadata": {},
   "outputs": [
    {
     "name": "stdout",
     "output_type": "stream",
     "text": [
      "1743                                             B\\nB\\n\\n\n",
      "9       \\nIf a Christian means someone who believes in...\n",
      "2277                              \\nCam chain.\\n\\n  -Mike\n",
      "1315    \\nBut remember that had God extinguished the b...\n",
      "6471                        WANTED:\\n\\n     Refrigerator.\n",
      "Name: raw, dtype: object\n"
     ]
    }
   ],
   "source": [
    "print(newsgroups_df.iloc[indices.flatten()]['raw'])"
   ]
  },
  {
   "cell_type": "code",
   "execution_count": 37,
   "id": "02b9ec07",
   "metadata": {},
   "outputs": [
    {
     "name": "stdout",
     "output_type": "stream",
     "text": [
      "These documents are a collection of varied and loosely related statements: one discusses the definition of a Christian, suggesting that if believing in Jesus’s divinity defines a Christian, then Jesus himself was one; another humorously riffs on Christmas leftovers, particularly turkey dishes; a brief note references a \"cam chain\"; an additional comment reflects on the intertwined history of European actions, imperialism, and the later emergence of the United States, posing a \"chicken or egg\" philosophical quandary; and finally, there’s a simple want ad seeking a refrigerator.\n"
     ]
    }
   ],
   "source": [
    "prompt = f\"\"\"\n",
    "Take the following relevant documents and summarize them in a single paragraph:\n",
    "{newsgroups_df.iloc[indices.flatten()]['raw'].tolist()}\n",
    "\"\"\"\n",
    "\n",
    "response = client.responses.create(\n",
    "    model=\"gpt-4.1\",\n",
    "    input=prompt\n",
    ")\n",
    "print(response.output_text)"
   ]
  }
 ],
 "metadata": {
  "kernelspec": {
   "display_name": ".venv",
   "language": "python",
   "name": "python3"
  },
  "language_info": {
   "codemirror_mode": {
    "name": "ipython",
    "version": 3
   },
   "file_extension": ".py",
   "mimetype": "text/x-python",
   "name": "python",
   "nbconvert_exporter": "python",
   "pygments_lexer": "ipython3",
   "version": "3.12.9"
  }
 },
 "nbformat": 4,
 "nbformat_minor": 5
}
