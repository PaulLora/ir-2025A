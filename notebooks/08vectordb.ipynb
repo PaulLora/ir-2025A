{
 "cells": [
  {
   "cell_type": "markdown",
   "id": "7900d048bdae22eb",
   "metadata": {},
   "source": [
    "# Ejercicio 8: Bases de Datos Vectoriales\n",
    "\n",
    "Las bases de datos vectoriales permiten almacenar y recuperar información representada como vectores en espacios de alta dimensión. Primero vamos a revisar los fundamentos matemáticos en los que se basan.\n",
    "\n",
    "## 1. Espacios Vectoriales\n",
    "\n",
    "Cada documento, imagen, o consulta se representa como un vector real en un espacio ℝ^n:\n",
    "\n",
    "$\\[ \\vec{d} = [d_1, d_2, \\dots, d_n] \\in \\mathbb{R}^n \\]$\n",
    "\n",
    "Donde $\\( n \\)$ suele ser 384, 768 o 1536, dependiendo del modelo de embeddings utilizado."
   ]
  },
  {
   "cell_type": "code",
   "execution_count": 2,
   "id": "a45ef03d",
   "metadata": {},
   "outputs": [
    {
     "name": "stdout",
     "output_type": "stream",
     "text": [
      "Collecting nltk\n",
      "  Downloading nltk-3.9.1-py3-none-any.whl.metadata (2.9 kB)\n",
      "Collecting click (from nltk)\n",
      "  Downloading click-8.2.1-py3-none-any.whl.metadata (2.5 kB)\n",
      "Requirement already satisfied: joblib in /Users/paullora/Desktop/EPN/ir/ir-2025A/.venv/lib/python3.12/site-packages (from nltk) (1.5.0)\n",
      "Requirement already satisfied: regex>=2021.8.3 in /Users/paullora/Desktop/EPN/ir/ir-2025A/.venv/lib/python3.12/site-packages (from nltk) (2024.11.6)\n",
      "Requirement already satisfied: tqdm in /Users/paullora/Desktop/EPN/ir/ir-2025A/.venv/lib/python3.12/site-packages (from nltk) (4.67.1)\n",
      "Downloading nltk-3.9.1-py3-none-any.whl (1.5 MB)\n",
      "\u001b[2K   \u001b[90m━━━━━━━━━━━━━━━━━━━━━━━━━━━━━━━━━━━━━━━━\u001b[0m \u001b[32m1.5/1.5 MB\u001b[0m \u001b[31m9.0 MB/s\u001b[0m eta \u001b[36m0:00:00\u001b[0ma \u001b[36m0:00:01\u001b[0m\n",
      "\u001b[?25hDownloading click-8.2.1-py3-none-any.whl (102 kB)\n",
      "Installing collected packages: click, nltk\n",
      "\u001b[2K   \u001b[90m━━━━━━━━━━━━━━━━━━━━━━━━━━━━━━━━━━━━━━━━\u001b[0m \u001b[32m2/2\u001b[0m [nltk][32m1/2\u001b[0m [nltk]\n",
      "\u001b[1A\u001b[2KSuccessfully installed click-8.2.1 nltk-3.9.1\n",
      "\n",
      "\u001b[1m[\u001b[0m\u001b[34;49mnotice\u001b[0m\u001b[1;39;49m]\u001b[0m\u001b[39;49m A new release of pip is available: \u001b[0m\u001b[31;49m25.1\u001b[0m\u001b[39;49m -> \u001b[0m\u001b[32;49m25.1.1\u001b[0m\n",
      "\u001b[1m[\u001b[0m\u001b[34;49mnotice\u001b[0m\u001b[1;39;49m]\u001b[0m\u001b[39;49m To update, run: \u001b[0m\u001b[32;49mpip install --upgrade pip\u001b[0m\n",
      "Note: you may need to restart the kernel to use updated packages.\n"
     ]
    }
   ],
   "source": [
    "%pip install nltk"
   ]
  },
  {
   "cell_type": "code",
   "execution_count": 37,
   "id": "ebb966f6",
   "metadata": {},
   "outputs": [
    {
     "name": "stderr",
     "output_type": "stream",
     "text": [
      "[nltk_data] Downloading package punkt_tab to\n",
      "[nltk_data]     /Users/paullora/nltk_data...\n",
      "[nltk_data]   Package punkt_tab is already up-to-date!\n",
      "[nltk_data] Downloading package stopwords to\n",
      "[nltk_data]     /Users/paullora/nltk_data...\n",
      "[nltk_data]   Package stopwords is already up-to-date!\n"
     ]
    },
    {
     "data": {
      "text/plain": [
       "True"
      ]
     },
     "execution_count": 37,
     "metadata": {},
     "output_type": "execute_result"
    }
   ],
   "source": [
    "from sklearn.datasets import fetch_20newsgroups\n",
    "import pandas as pd\n",
    "import nltk\n",
    "from nltk.corpus import stopwords\n",
    "from nltk.tokenize import word_tokenize\n",
    "import gensim.downloader as api\n",
    "import numpy as np\n",
    "nltk.download('punkt_tab')\n",
    "nltk.download('stopwords')"
   ]
  },
  {
   "cell_type": "code",
   "execution_count": 21,
   "id": "6dfc078a",
   "metadata": {},
   "outputs": [
    {
     "data": {
      "text/html": [
       "<div>\n",
       "<style scoped>\n",
       "    .dataframe tbody tr th:only-of-type {\n",
       "        vertical-align: middle;\n",
       "    }\n",
       "\n",
       "    .dataframe tbody tr th {\n",
       "        vertical-align: top;\n",
       "    }\n",
       "\n",
       "    .dataframe thead th {\n",
       "        text-align: right;\n",
       "    }\n",
       "</style>\n",
       "<table border=\"1\" class=\"dataframe\">\n",
       "  <thead>\n",
       "    <tr style=\"text-align: right;\">\n",
       "      <th></th>\n",
       "      <th>raw</th>\n",
       "    </tr>\n",
       "  </thead>\n",
       "  <tbody>\n",
       "    <tr>\n",
       "      <th>0</th>\n",
       "      <td>\\n\\nI am sure some bashers of Pens fans are pr...</td>\n",
       "    </tr>\n",
       "    <tr>\n",
       "      <th>1</th>\n",
       "      <td>My brother is in the market for a high-perform...</td>\n",
       "    </tr>\n",
       "    <tr>\n",
       "      <th>2</th>\n",
       "      <td>\\n\\n\\n\\n\\tFinally you said what you dream abou...</td>\n",
       "    </tr>\n",
       "    <tr>\n",
       "      <th>3</th>\n",
       "      <td>\\nThink!\\n\\nIt's the SCSI card doing the DMA t...</td>\n",
       "    </tr>\n",
       "    <tr>\n",
       "      <th>4</th>\n",
       "      <td>1)    I have an old Jasmine drive which I cann...</td>\n",
       "    </tr>\n",
       "    <tr>\n",
       "      <th>...</th>\n",
       "      <td>...</td>\n",
       "    </tr>\n",
       "    <tr>\n",
       "      <th>18841</th>\n",
       "      <td>DN&gt; From: nyeda@cnsvax.uwec.edu (David Nye)\\nD...</td>\n",
       "    </tr>\n",
       "    <tr>\n",
       "      <th>18842</th>\n",
       "      <td>\\nNot in isolated ground recepticles (usually ...</td>\n",
       "    </tr>\n",
       "    <tr>\n",
       "      <th>18843</th>\n",
       "      <td>I just installed a DX2-66 CPU in a clone mothe...</td>\n",
       "    </tr>\n",
       "    <tr>\n",
       "      <th>18844</th>\n",
       "      <td>\\nWouldn't this require a hyper-sphere.  In 3-...</td>\n",
       "    </tr>\n",
       "    <tr>\n",
       "      <th>18845</th>\n",
       "      <td>After a tip from Gary Crum (crum@fcom.cc.utah....</td>\n",
       "    </tr>\n",
       "  </tbody>\n",
       "</table>\n",
       "<p>18846 rows × 1 columns</p>\n",
       "</div>"
      ],
      "text/plain": [
       "                                                     raw\n",
       "0      \\n\\nI am sure some bashers of Pens fans are pr...\n",
       "1      My brother is in the market for a high-perform...\n",
       "2      \\n\\n\\n\\n\\tFinally you said what you dream abou...\n",
       "3      \\nThink!\\n\\nIt's the SCSI card doing the DMA t...\n",
       "4      1)    I have an old Jasmine drive which I cann...\n",
       "...                                                  ...\n",
       "18841  DN> From: nyeda@cnsvax.uwec.edu (David Nye)\\nD...\n",
       "18842  \\nNot in isolated ground recepticles (usually ...\n",
       "18843  I just installed a DX2-66 CPU in a clone mothe...\n",
       "18844  \\nWouldn't this require a hyper-sphere.  In 3-...\n",
       "18845  After a tip from Gary Crum (crum@fcom.cc.utah....\n",
       "\n",
       "[18846 rows x 1 columns]"
      ]
     },
     "execution_count": 21,
     "metadata": {},
     "output_type": "execute_result"
    }
   ],
   "source": [
    "newsgroups = fetch_20newsgroups(subset='all', remove=('headers', 'footers', 'quotes'))\n",
    "newsgroupsdocs = newsgroups.data\n",
    "newsgroupsdocs_df = pd.DataFrame(newsgroupsdocs, columns=['raw'])\n",
    "newsgroupsdocs_df"
   ]
  },
  {
   "cell_type": "code",
   "execution_count": null,
   "id": "94aa0b05",
   "metadata": {},
   "outputs": [],
   "source": [
    "stop_words = set(stopwords.words('english'))\n",
    "def preprocess_doc(doc):\n",
    "    words = word_tokenize(doc.lower())\n",
    "    words_filtered = [word for word in words if word not in stop_words]\n",
    "    return ' '.join(words_filtered)"
   ]
  },
  {
   "cell_type": "code",
   "execution_count": 31,
   "id": "12896ab9",
   "metadata": {},
   "outputs": [],
   "source": [
    "newsgroupsdocs_df['processed'] = newsgroupsdocs_df['raw'].apply(preprocess_doc)"
   ]
  },
  {
   "cell_type": "code",
   "execution_count": 32,
   "id": "7bc36ae5",
   "metadata": {},
   "outputs": [
    {
     "data": {
      "text/html": [
       "<div>\n",
       "<style scoped>\n",
       "    .dataframe tbody tr th:only-of-type {\n",
       "        vertical-align: middle;\n",
       "    }\n",
       "\n",
       "    .dataframe tbody tr th {\n",
       "        vertical-align: top;\n",
       "    }\n",
       "\n",
       "    .dataframe thead th {\n",
       "        text-align: right;\n",
       "    }\n",
       "</style>\n",
       "<table border=\"1\" class=\"dataframe\">\n",
       "  <thead>\n",
       "    <tr style=\"text-align: right;\">\n",
       "      <th></th>\n",
       "      <th>raw</th>\n",
       "      <th>processed</th>\n",
       "    </tr>\n",
       "  </thead>\n",
       "  <tbody>\n",
       "    <tr>\n",
       "      <th>0</th>\n",
       "      <td>\\n\\nI am sure some bashers of Pens fans are pr...</td>\n",
       "      <td>sure bashers pens fans pretty confused lack ki...</td>\n",
       "    </tr>\n",
       "    <tr>\n",
       "      <th>1</th>\n",
       "      <td>My brother is in the market for a high-perform...</td>\n",
       "      <td>brother market high-performance video card sup...</td>\n",
       "    </tr>\n",
       "    <tr>\n",
       "      <th>2</th>\n",
       "      <td>\\n\\n\\n\\n\\tFinally you said what you dream abou...</td>\n",
       "      <td>finally said dream . mediterranean ? ? ? ? new...</td>\n",
       "    </tr>\n",
       "    <tr>\n",
       "      <th>3</th>\n",
       "      <td>\\nThink!\\n\\nIt's the SCSI card doing the DMA t...</td>\n",
       "      <td>think ! 's scsi card dma transfers disks ... s...</td>\n",
       "    </tr>\n",
       "    <tr>\n",
       "      <th>4</th>\n",
       "      <td>1)    I have an old Jasmine drive which I cann...</td>\n",
       "      <td>1 ) old jasmine drive use new system . underst...</td>\n",
       "    </tr>\n",
       "    <tr>\n",
       "      <th>...</th>\n",
       "      <td>...</td>\n",
       "      <td>...</td>\n",
       "    </tr>\n",
       "    <tr>\n",
       "      <th>18841</th>\n",
       "      <td>DN&gt; From: nyeda@cnsvax.uwec.edu (David Nye)\\nD...</td>\n",
       "      <td>dn &gt; : nyeda @ cnsvax.uwec.edu ( david nye ) d...</td>\n",
       "    </tr>\n",
       "    <tr>\n",
       "      <th>18842</th>\n",
       "      <td>\\nNot in isolated ground recepticles (usually ...</td>\n",
       "      <td>isolated ground recepticles ( usually unusual ...</td>\n",
       "    </tr>\n",
       "    <tr>\n",
       "      <th>18843</th>\n",
       "      <td>I just installed a DX2-66 CPU in a clone mothe...</td>\n",
       "      <td>installed dx2-66 cpu clone motherboard , tried...</td>\n",
       "    </tr>\n",
       "    <tr>\n",
       "      <th>18844</th>\n",
       "      <td>\\nWouldn't this require a hyper-sphere.  In 3-...</td>\n",
       "      <td>would n't require hyper-sphere . 3-space , 4 p...</td>\n",
       "    </tr>\n",
       "    <tr>\n",
       "      <th>18845</th>\n",
       "      <td>After a tip from Gary Crum (crum@fcom.cc.utah....</td>\n",
       "      <td>tip gary crum ( crum @ fcom.cc.utah.edu ) got ...</td>\n",
       "    </tr>\n",
       "  </tbody>\n",
       "</table>\n",
       "<p>18846 rows × 2 columns</p>\n",
       "</div>"
      ],
      "text/plain": [
       "                                                     raw  \\\n",
       "0      \\n\\nI am sure some bashers of Pens fans are pr...   \n",
       "1      My brother is in the market for a high-perform...   \n",
       "2      \\n\\n\\n\\n\\tFinally you said what you dream abou...   \n",
       "3      \\nThink!\\n\\nIt's the SCSI card doing the DMA t...   \n",
       "4      1)    I have an old Jasmine drive which I cann...   \n",
       "...                                                  ...   \n",
       "18841  DN> From: nyeda@cnsvax.uwec.edu (David Nye)\\nD...   \n",
       "18842  \\nNot in isolated ground recepticles (usually ...   \n",
       "18843  I just installed a DX2-66 CPU in a clone mothe...   \n",
       "18844  \\nWouldn't this require a hyper-sphere.  In 3-...   \n",
       "18845  After a tip from Gary Crum (crum@fcom.cc.utah....   \n",
       "\n",
       "                                               processed  \n",
       "0      sure bashers pens fans pretty confused lack ki...  \n",
       "1      brother market high-performance video card sup...  \n",
       "2      finally said dream . mediterranean ? ? ? ? new...  \n",
       "3      think ! 's scsi card dma transfers disks ... s...  \n",
       "4      1 ) old jasmine drive use new system . underst...  \n",
       "...                                                  ...  \n",
       "18841  dn > : nyeda @ cnsvax.uwec.edu ( david nye ) d...  \n",
       "18842  isolated ground recepticles ( usually unusual ...  \n",
       "18843  installed dx2-66 cpu clone motherboard , tried...  \n",
       "18844  would n't require hyper-sphere . 3-space , 4 p...  \n",
       "18845  tip gary crum ( crum @ fcom.cc.utah.edu ) got ...  \n",
       "\n",
       "[18846 rows x 2 columns]"
      ]
     },
     "execution_count": 32,
     "metadata": {},
     "output_type": "execute_result"
    }
   ],
   "source": [
    "newsgroupsdocs_df"
   ]
  },
  {
   "cell_type": "code",
   "execution_count": 35,
   "id": "96ec80c3",
   "metadata": {},
   "outputs": [],
   "source": [
    "model = api.load(\"word2vec-google-news-300\")"
   ]
  },
  {
   "cell_type": "code",
   "execution_count": 66,
   "id": "cadf9cfd",
   "metadata": {},
   "outputs": [],
   "source": [
    "def embedding_doc(doc):\n",
    "    words = word_tokenize(doc)\n",
    "    doc_embeddings = [model[word] for word in words if word in model]\n",
    "    return np.mean(doc_embeddings, axis=0)"
   ]
  },
  {
   "cell_type": "code",
   "execution_count": 67,
   "id": "8d200b1f",
   "metadata": {},
   "outputs": [
    {
     "name": "stderr",
     "output_type": "stream",
     "text": [
      "/Users/paullora/Desktop/EPN/ir/ir-2025A/.venv/lib/python3.12/site-packages/numpy/core/fromnumeric.py:3504: RuntimeWarning: Mean of empty slice.\n",
      "  return _methods._mean(a, axis=axis, dtype=dtype,\n",
      "/Users/paullora/Desktop/EPN/ir/ir-2025A/.venv/lib/python3.12/site-packages/numpy/core/_methods.py:129: RuntimeWarning: invalid value encountered in scalar divide\n",
      "  ret = ret.dtype.type(ret / rcount)\n"
     ]
    }
   ],
   "source": [
    "newsgroupsdocs_df['embeddings'] = newsgroupsdocs_df['processed'].apply(embedding_doc)"
   ]
  },
  {
   "cell_type": "code",
   "execution_count": 68,
   "id": "30746054",
   "metadata": {},
   "outputs": [
    {
     "data": {
      "text/html": [
       "<div>\n",
       "<style scoped>\n",
       "    .dataframe tbody tr th:only-of-type {\n",
       "        vertical-align: middle;\n",
       "    }\n",
       "\n",
       "    .dataframe tbody tr th {\n",
       "        vertical-align: top;\n",
       "    }\n",
       "\n",
       "    .dataframe thead th {\n",
       "        text-align: right;\n",
       "    }\n",
       "</style>\n",
       "<table border=\"1\" class=\"dataframe\">\n",
       "  <thead>\n",
       "    <tr style=\"text-align: right;\">\n",
       "      <th></th>\n",
       "      <th>raw</th>\n",
       "      <th>processed</th>\n",
       "      <th>embeddings</th>\n",
       "    </tr>\n",
       "  </thead>\n",
       "  <tbody>\n",
       "    <tr>\n",
       "      <th>0</th>\n",
       "      <td>\\n\\nI am sure some bashers of Pens fans are pr...</td>\n",
       "      <td>sure bashers pens fans pretty confused lack ki...</td>\n",
       "      <td>[0.061880082, 0.07067529, -0.02666849, 0.08532...</td>\n",
       "    </tr>\n",
       "    <tr>\n",
       "      <th>1</th>\n",
       "      <td>My brother is in the market for a high-perform...</td>\n",
       "      <td>brother market high-performance video card sup...</td>\n",
       "      <td>[-0.021407517, 0.010921337, 0.018396448, 0.005...</td>\n",
       "    </tr>\n",
       "    <tr>\n",
       "      <th>2</th>\n",
       "      <td>\\n\\n\\n\\n\\tFinally you said what you dream abou...</td>\n",
       "      <td>finally said dream . mediterranean ? ? ? ? new...</td>\n",
       "      <td>[0.022130935, 0.016848527, 0.03843176, 0.07588...</td>\n",
       "    </tr>\n",
       "    <tr>\n",
       "      <th>3</th>\n",
       "      <td>\\nThink!\\n\\nIt's the SCSI card doing the DMA t...</td>\n",
       "      <td>think ! 's scsi card dma transfers disks ... s...</td>\n",
       "      <td>[0.030354667, -0.006498449, 0.0025616814, 0.04...</td>\n",
       "    </tr>\n",
       "    <tr>\n",
       "      <th>4</th>\n",
       "      <td>1)    I have an old Jasmine drive which I cann...</td>\n",
       "      <td>1 ) old jasmine drive use new system . underst...</td>\n",
       "      <td>[0.062327992, -0.0061734286, 0.033541594, 0.07...</td>\n",
       "    </tr>\n",
       "    <tr>\n",
       "      <th>...</th>\n",
       "      <td>...</td>\n",
       "      <td>...</td>\n",
       "      <td>...</td>\n",
       "    </tr>\n",
       "    <tr>\n",
       "      <th>18841</th>\n",
       "      <td>DN&gt; From: nyeda@cnsvax.uwec.edu (David Nye)\\nD...</td>\n",
       "      <td>dn &gt; : nyeda @ cnsvax.uwec.edu ( david nye ) d...</td>\n",
       "      <td>[-0.073149584, 0.061401464, -0.00469598, 0.114...</td>\n",
       "    </tr>\n",
       "    <tr>\n",
       "      <th>18842</th>\n",
       "      <td>\\nNot in isolated ground recepticles (usually ...</td>\n",
       "      <td>isolated ground recepticles ( usually unusual ...</td>\n",
       "      <td>[0.030321907, -0.0007019043, -0.044720817, 0.0...</td>\n",
       "    </tr>\n",
       "    <tr>\n",
       "      <th>18843</th>\n",
       "      <td>I just installed a DX2-66 CPU in a clone mothe...</td>\n",
       "      <td>installed dx2-66 cpu clone motherboard , tried...</td>\n",
       "      <td>[0.0029458804, 0.047783054, -0.03366774, 0.145...</td>\n",
       "    </tr>\n",
       "    <tr>\n",
       "      <th>18844</th>\n",
       "      <td>\\nWouldn't this require a hyper-sphere.  In 3-...</td>\n",
       "      <td>would n't require hyper-sphere . 3-space , 4 p...</td>\n",
       "      <td>[-0.022285461, -0.028199514, 0.035079956, 0.09...</td>\n",
       "    </tr>\n",
       "    <tr>\n",
       "      <th>18845</th>\n",
       "      <td>After a tip from Gary Crum (crum@fcom.cc.utah....</td>\n",
       "      <td>tip gary crum ( crum @ fcom.cc.utah.edu ) got ...</td>\n",
       "      <td>[0.033235893, 0.021473994, 0.015186935, 0.0544...</td>\n",
       "    </tr>\n",
       "  </tbody>\n",
       "</table>\n",
       "<p>18846 rows × 3 columns</p>\n",
       "</div>"
      ],
      "text/plain": [
       "                                                     raw  \\\n",
       "0      \\n\\nI am sure some bashers of Pens fans are pr...   \n",
       "1      My brother is in the market for a high-perform...   \n",
       "2      \\n\\n\\n\\n\\tFinally you said what you dream abou...   \n",
       "3      \\nThink!\\n\\nIt's the SCSI card doing the DMA t...   \n",
       "4      1)    I have an old Jasmine drive which I cann...   \n",
       "...                                                  ...   \n",
       "18841  DN> From: nyeda@cnsvax.uwec.edu (David Nye)\\nD...   \n",
       "18842  \\nNot in isolated ground recepticles (usually ...   \n",
       "18843  I just installed a DX2-66 CPU in a clone mothe...   \n",
       "18844  \\nWouldn't this require a hyper-sphere.  In 3-...   \n",
       "18845  After a tip from Gary Crum (crum@fcom.cc.utah....   \n",
       "\n",
       "                                               processed  \\\n",
       "0      sure bashers pens fans pretty confused lack ki...   \n",
       "1      brother market high-performance video card sup...   \n",
       "2      finally said dream . mediterranean ? ? ? ? new...   \n",
       "3      think ! 's scsi card dma transfers disks ... s...   \n",
       "4      1 ) old jasmine drive use new system . underst...   \n",
       "...                                                  ...   \n",
       "18841  dn > : nyeda @ cnsvax.uwec.edu ( david nye ) d...   \n",
       "18842  isolated ground recepticles ( usually unusual ...   \n",
       "18843  installed dx2-66 cpu clone motherboard , tried...   \n",
       "18844  would n't require hyper-sphere . 3-space , 4 p...   \n",
       "18845  tip gary crum ( crum @ fcom.cc.utah.edu ) got ...   \n",
       "\n",
       "                                              embeddings  \n",
       "0      [0.061880082, 0.07067529, -0.02666849, 0.08532...  \n",
       "1      [-0.021407517, 0.010921337, 0.018396448, 0.005...  \n",
       "2      [0.022130935, 0.016848527, 0.03843176, 0.07588...  \n",
       "3      [0.030354667, -0.006498449, 0.0025616814, 0.04...  \n",
       "4      [0.062327992, -0.0061734286, 0.033541594, 0.07...  \n",
       "...                                                  ...  \n",
       "18841  [-0.073149584, 0.061401464, -0.00469598, 0.114...  \n",
       "18842  [0.030321907, -0.0007019043, -0.044720817, 0.0...  \n",
       "18843  [0.0029458804, 0.047783054, -0.03366774, 0.145...  \n",
       "18844  [-0.022285461, -0.028199514, 0.035079956, 0.09...  \n",
       "18845  [0.033235893, 0.021473994, 0.015186935, 0.0544...  \n",
       "\n",
       "[18846 rows x 3 columns]"
      ]
     },
     "execution_count": 68,
     "metadata": {},
     "output_type": "execute_result"
    }
   ],
   "source": [
    "newsgroupsdocs_df"
   ]
  },
  {
   "cell_type": "code",
   "execution_count": 69,
   "id": "0f7eb965",
   "metadata": {},
   "outputs": [
    {
     "data": {
      "text/plain": [
       "array([ 0.171875  , -0.17041016,  0.10131836,  0.18603516, -0.08813477,\n",
       "        0.16772461,  0.03759766,  0.00927734,  0.08782959,  0.05236816,\n",
       "       -0.02734375,  0.01287842, -0.14038086, -0.09143066,  0.0291748 ,\n",
       "       -0.05541992, -0.05102539,  0.09829712,  0.11169434, -0.29638672,\n",
       "        0.00634766,  0.14355469,  0.08668137,  0.04241943,  0.09042358,\n",
       "       -0.03800201,  0.06970215,  0.08349609,  0.0256958 , -0.2211914 ,\n",
       "       -0.21484375,  0.03857422, -0.171875  ,  0.12359619, -0.17016602,\n",
       "       -0.109375  , -0.14453125,  0.26367188,  0.00921631,  0.03381348,\n",
       "        0.03417969,  0.16503906,  0.15722656,  0.22363281,  0.05773926,\n",
       "       -0.03808594,  0.01489258,  0.0637207 ,  0.06494141,  0.11437607,\n",
       "       -0.2553711 , -0.12353516,  0.05297852, -0.18310547, -0.21875   ,\n",
       "        0.24072266,  0.1564331 , -0.12210083,  0.01843262,  0.14160156,\n",
       "        0.05957031,  0.16577148, -0.2536621 ,  0.07653809, -0.16796875,\n",
       "        0.11523438, -0.11499023,  0.25048828, -0.18164062,  0.03662109,\n",
       "       -0.02404785,  0.02978516,  0.14453125, -0.05224609,  0.0111084 ,\n",
       "        0.11132812,  0.22998047,  0.0144043 , -0.00497437, -0.16595459,\n",
       "        0.07226562,  0.24121094,  0.05078125,  0.19067383,  0.17993164,\n",
       "        0.06048584, -0.06036377,  0.27246094, -0.02636719, -0.01611328,\n",
       "        0.04251099, -0.18847656, -0.22753906, -0.00097656,  0.10360718,\n",
       "       -0.06506348,  0.1472168 ,  0.171875  ,  0.23535156,  0.00341797,\n",
       "        0.10766602,  0.06323242, -0.14672852,  0.01513672, -0.05627441,\n",
       "        0.19799805,  0.0859375 , -0.01356506,  0.2758789 , -0.10620117,\n",
       "       -0.19970703,  0.00439453,  0.05175781,  0.1081543 ,  0.04797363,\n",
       "       -0.02905273, -0.23730469, -0.06359863,  0.23730469, -0.09460449,\n",
       "       -0.39160156, -0.02246094, -0.0168457 ,  0.00479126,  0.06506348,\n",
       "       -0.00432205, -0.29614258,  0.05987549, -0.04492188,  0.01611328,\n",
       "        0.01977539, -0.24072266, -0.1899414 ,  0.21240234,  0.01220703,\n",
       "        0.109375  , -0.03356934,  0.01000977, -0.41992188, -0.24902344,\n",
       "        0.10253906, -0.35839844, -0.16235352,  0.03515625, -0.12890625,\n",
       "        0.06225586,  0.37597656,  0.0612793 , -0.11328125, -0.05688477,\n",
       "       -0.04541016,  0.18798828, -0.01708984,  0.02197266, -0.21972656,\n",
       "       -0.18170166,  0.05883789, -0.08764648, -0.15844727,  0.22509766,\n",
       "       -0.10205078, -0.00439453, -0.19970703,  0.17529297, -0.02682495,\n",
       "        0.10961914,  0.0456543 , -0.2861328 , -0.21533203, -0.05401611,\n",
       "       -0.0826416 , -0.11898804, -0.1899414 , -0.01625061, -0.18432617,\n",
       "       -0.04418945,  0.10534668, -0.15200806, -0.0234375 , -0.04943848,\n",
       "       -0.14453125, -0.21679688,  0.08752441, -0.15771484,  0.2397461 ,\n",
       "       -0.03222656,  0.02319336,  0.02264404,  0.04321289, -0.11816406,\n",
       "       -0.07910156,  0.03231812, -0.21875   , -0.17651367,  0.08288574,\n",
       "        0.43066406,  0.21923828, -0.17138672, -0.02338409, -0.2397461 ,\n",
       "       -0.1665039 ,  0.1081543 , -0.08251953,  0.11962891,  0.18115234,\n",
       "       -0.06298828, -0.04785156, -0.15698242, -0.25585938, -0.21533203,\n",
       "       -0.05908203,  0.10131836, -0.12536621,  0.0378418 ,  0.0859375 ,\n",
       "        0.13378906, -0.02172852,  0.1519165 , -0.36035156, -0.14697266,\n",
       "       -0.05786133, -0.14666748,  0.07495117, -0.02056885, -0.1282959 ,\n",
       "        0.01000977, -0.37939453,  0.02685547,  0.00708008, -0.07080078,\n",
       "        0.00048828, -0.10400391,  0.00439453, -0.16040039, -0.41210938,\n",
       "       -0.0670166 ,  0.10986328, -0.15576172,  0.31433105,  0.02636719,\n",
       "        0.14990234, -0.13824463, -0.2084961 , -0.07409668, -0.03463745,\n",
       "       -0.09790039, -0.09228516,  0.21148682, -0.08337402, -0.08251953,\n",
       "       -0.03125   ,  0.14111328, -0.00585938,  0.00634766,  0.07189941,\n",
       "       -0.11419678, -0.02374268, -0.1763916 , -0.06359863,  0.03723145,\n",
       "        0.06542969, -0.06384277,  0.1171875 , -0.16308594,  0.01660919,\n",
       "        0.19970703, -0.02978516, -0.04296875, -0.15966797,  0.10998535,\n",
       "        0.10803223, -0.02444458, -0.01929849, -0.01550293,  0.08618164,\n",
       "       -0.13696289,  0.0291748 , -0.23144531, -0.05749512,  0.23071289,\n",
       "        0.03482056,  0.18798828,  0.01525879,  0.1303711 , -0.03112793,\n",
       "       -0.07739258,  0.01751709, -0.05664062,  0.16149902,  0.25830078,\n",
       "       -0.2763672 ,  0.08905029,  0.01074219, -0.02722168,  0.14404297,\n",
       "       -0.09851074,  0.02090454, -0.20471191, -0.12745667, -0.11450195],\n",
       "      dtype=float32)"
      ]
     },
     "execution_count": 69,
     "metadata": {},
     "output_type": "execute_result"
    }
   ],
   "source": [
    "query = \"computer graphics\"\n",
    "query_embedding = embedding_doc(query)\n",
    "query_embedding"
   ]
  },
  {
   "cell_type": "markdown",
   "id": "84f29c9d35285942",
   "metadata": {},
   "source": [
    "## 2. Medidas de Similitud\n",
    "\n",
    "El principio básico de una base vectorial es buscar elementos cuyo vector esté \"cerca\" del vector de consulta. Existen varias formas de medir esta cercanía:\n",
    "\n",
    "### a. Distancia Euclidiana (L2)\n",
    "\n",
    "$\\[ \\text{dist}(⇡\\vec{q}, \\vec{d}) = \\sqrt{\\sum_{i=1}^n (q_i - d_i)^2} \\]$\n",
    "\n",
    "Utilizada cuando los vectores no están normalizados. Implementada por defecto en `FAISS` con `IndexFlatL2`.\n",
    "\n",
    "### b. Similitud Coseno\n",
    "\n",
    "$\\[ \\cos(\\theta) = \\frac{\\vec{q} \\cdot \\vec{d}}{\\|\\vec{q}\\| \\cdot \\|\\vec{d}\\|} \\]$\n",
    "\n",
    "Esta métrica es ideal cuando se desea medir ángulos (dirección) en lugar de magnitudes. Se usa en `ChromaDB` y también puede simularse en FAISS si los vectores están normalizados.\n",
    "\n",
    "Existe una relación entre ambas (cuando los vectores están normalizados):\n",
    "$\\[ \\text{dist}_{\\text{L2}}^2 = 2 - 2 \\cdot \\cos(\\theta) \\]$"
   ]
  },
  {
   "cell_type": "code",
   "execution_count": 85,
   "id": "8a1cbefa",
   "metadata": {},
   "outputs": [
    {
     "ename": "ValueError",
     "evalue": "setting an array element with a sequence.",
     "output_type": "error",
     "traceback": [
      "\u001b[31m---------------------------------------------------------------------------\u001b[39m",
      "\u001b[31mTypeError\u001b[39m                                 Traceback (most recent call last)",
      "\u001b[31mTypeError\u001b[39m: only length-1 arrays can be converted to Python scalars",
      "\nThe above exception was the direct cause of the following exception:\n",
      "\u001b[31mValueError\u001b[39m                                Traceback (most recent call last)",
      "\u001b[36mCell\u001b[39m\u001b[36m \u001b[39m\u001b[32mIn[85]\u001b[39m\u001b[32m, line 11\u001b[39m\n\u001b[32m      8\u001b[39m embeddings_matrix.shape\n\u001b[32m     10\u001b[39m \u001b[38;5;66;03m# Use the correct 2D numpy array for embeddings\u001b[39;00m\n\u001b[32m---> \u001b[39m\u001b[32m11\u001b[39m results = \u001b[43mcosine_similarity\u001b[49m\u001b[43m(\u001b[49m\u001b[43membeddings_matrix\u001b[49m\u001b[43m,\u001b[49m\u001b[43m \u001b[49m\u001b[43mquery_embedding_2d\u001b[49m\u001b[43m)\u001b[49m\n\u001b[32m     12\u001b[39m \u001b[38;5;66;03m# results = results.flatten()  # shape: (n_docs,)\u001b[39;00m\n\u001b[32m     13\u001b[39m \n\u001b[32m     14\u001b[39m \u001b[38;5;66;03m# results\u001b[39;00m\n",
      "\u001b[36mFile \u001b[39m\u001b[32m~/Desktop/EPN/ir/ir-2025A/.venv/lib/python3.12/site-packages/sklearn/utils/_param_validation.py:216\u001b[39m, in \u001b[36mvalidate_params.<locals>.decorator.<locals>.wrapper\u001b[39m\u001b[34m(*args, **kwargs)\u001b[39m\n\u001b[32m    210\u001b[39m \u001b[38;5;28;01mtry\u001b[39;00m:\n\u001b[32m    211\u001b[39m     \u001b[38;5;28;01mwith\u001b[39;00m config_context(\n\u001b[32m    212\u001b[39m         skip_parameter_validation=(\n\u001b[32m    213\u001b[39m             prefer_skip_nested_validation \u001b[38;5;129;01mor\u001b[39;00m global_skip_validation\n\u001b[32m    214\u001b[39m         )\n\u001b[32m    215\u001b[39m     ):\n\u001b[32m--> \u001b[39m\u001b[32m216\u001b[39m         \u001b[38;5;28;01mreturn\u001b[39;00m \u001b[43mfunc\u001b[49m\u001b[43m(\u001b[49m\u001b[43m*\u001b[49m\u001b[43margs\u001b[49m\u001b[43m,\u001b[49m\u001b[43m \u001b[49m\u001b[43m*\u001b[49m\u001b[43m*\u001b[49m\u001b[43mkwargs\u001b[49m\u001b[43m)\u001b[49m\n\u001b[32m    217\u001b[39m \u001b[38;5;28;01mexcept\u001b[39;00m InvalidParameterError \u001b[38;5;28;01mas\u001b[39;00m e:\n\u001b[32m    218\u001b[39m     \u001b[38;5;66;03m# When the function is just a wrapper around an estimator, we allow\u001b[39;00m\n\u001b[32m    219\u001b[39m     \u001b[38;5;66;03m# the function to delegate validation to the estimator, but we replace\u001b[39;00m\n\u001b[32m    220\u001b[39m     \u001b[38;5;66;03m# the name of the estimator by the name of the function in the error\u001b[39;00m\n\u001b[32m    221\u001b[39m     \u001b[38;5;66;03m# message to avoid confusion.\u001b[39;00m\n\u001b[32m    222\u001b[39m     msg = re.sub(\n\u001b[32m    223\u001b[39m         \u001b[33mr\u001b[39m\u001b[33m\"\u001b[39m\u001b[33mparameter of \u001b[39m\u001b[33m\\\u001b[39m\u001b[33mw+ must be\u001b[39m\u001b[33m\"\u001b[39m,\n\u001b[32m    224\u001b[39m         \u001b[33mf\u001b[39m\u001b[33m\"\u001b[39m\u001b[33mparameter of \u001b[39m\u001b[38;5;132;01m{\u001b[39;00mfunc.\u001b[34m__qualname__\u001b[39m\u001b[38;5;132;01m}\u001b[39;00m\u001b[33m must be\u001b[39m\u001b[33m\"\u001b[39m,\n\u001b[32m    225\u001b[39m         \u001b[38;5;28mstr\u001b[39m(e),\n\u001b[32m    226\u001b[39m     )\n",
      "\u001b[36mFile \u001b[39m\u001b[32m~/Desktop/EPN/ir/ir-2025A/.venv/lib/python3.12/site-packages/sklearn/metrics/pairwise.py:1741\u001b[39m, in \u001b[36mcosine_similarity\u001b[39m\u001b[34m(X, Y, dense_output)\u001b[39m\n\u001b[32m   1695\u001b[39m \u001b[38;5;250m\u001b[39m\u001b[33;03m\"\"\"Compute cosine similarity between samples in X and Y.\u001b[39;00m\n\u001b[32m   1696\u001b[39m \n\u001b[32m   1697\u001b[39m \u001b[33;03mCosine similarity, or the cosine kernel, computes similarity as the\u001b[39;00m\n\u001b[32m   (...)\u001b[39m\u001b[32m   1737\u001b[39m \u001b[33;03m       [0.57..., 0.81...]])\u001b[39;00m\n\u001b[32m   1738\u001b[39m \u001b[33;03m\"\"\"\u001b[39;00m\n\u001b[32m   1739\u001b[39m \u001b[38;5;66;03m# to avoid recursive import\u001b[39;00m\n\u001b[32m-> \u001b[39m\u001b[32m1741\u001b[39m X, Y = \u001b[43mcheck_pairwise_arrays\u001b[49m\u001b[43m(\u001b[49m\u001b[43mX\u001b[49m\u001b[43m,\u001b[49m\u001b[43m \u001b[49m\u001b[43mY\u001b[49m\u001b[43m)\u001b[49m\n\u001b[32m   1743\u001b[39m X_normalized = normalize(X, copy=\u001b[38;5;28;01mTrue\u001b[39;00m)\n\u001b[32m   1744\u001b[39m \u001b[38;5;28;01mif\u001b[39;00m X \u001b[38;5;129;01mis\u001b[39;00m Y:\n",
      "\u001b[36mFile \u001b[39m\u001b[32m~/Desktop/EPN/ir/ir-2025A/.venv/lib/python3.12/site-packages/sklearn/metrics/pairwise.py:200\u001b[39m, in \u001b[36mcheck_pairwise_arrays\u001b[39m\u001b[34m(X, Y, precomputed, dtype, accept_sparse, force_all_finite, ensure_all_finite, ensure_2d, copy)\u001b[39m\n\u001b[32m    190\u001b[39m     X = Y = check_array(\n\u001b[32m    191\u001b[39m         X,\n\u001b[32m    192\u001b[39m         accept_sparse=accept_sparse,\n\u001b[32m   (...)\u001b[39m\u001b[32m    197\u001b[39m         ensure_2d=ensure_2d,\n\u001b[32m    198\u001b[39m     )\n\u001b[32m    199\u001b[39m \u001b[38;5;28;01melse\u001b[39;00m:\n\u001b[32m--> \u001b[39m\u001b[32m200\u001b[39m     X = \u001b[43mcheck_array\u001b[49m\u001b[43m(\u001b[49m\n\u001b[32m    201\u001b[39m \u001b[43m        \u001b[49m\u001b[43mX\u001b[49m\u001b[43m,\u001b[49m\n\u001b[32m    202\u001b[39m \u001b[43m        \u001b[49m\u001b[43maccept_sparse\u001b[49m\u001b[43m=\u001b[49m\u001b[43maccept_sparse\u001b[49m\u001b[43m,\u001b[49m\n\u001b[32m    203\u001b[39m \u001b[43m        \u001b[49m\u001b[43mdtype\u001b[49m\u001b[43m=\u001b[49m\u001b[43mdtype\u001b[49m\u001b[43m,\u001b[49m\n\u001b[32m    204\u001b[39m \u001b[43m        \u001b[49m\u001b[43mcopy\u001b[49m\u001b[43m=\u001b[49m\u001b[43mcopy\u001b[49m\u001b[43m,\u001b[49m\n\u001b[32m    205\u001b[39m \u001b[43m        \u001b[49m\u001b[43mensure_all_finite\u001b[49m\u001b[43m=\u001b[49m\u001b[43mensure_all_finite\u001b[49m\u001b[43m,\u001b[49m\n\u001b[32m    206\u001b[39m \u001b[43m        \u001b[49m\u001b[43mestimator\u001b[49m\u001b[43m=\u001b[49m\u001b[43mestimator\u001b[49m\u001b[43m,\u001b[49m\n\u001b[32m    207\u001b[39m \u001b[43m        \u001b[49m\u001b[43mensure_2d\u001b[49m\u001b[43m=\u001b[49m\u001b[43mensure_2d\u001b[49m\u001b[43m,\u001b[49m\n\u001b[32m    208\u001b[39m \u001b[43m    \u001b[49m\u001b[43m)\u001b[49m\n\u001b[32m    209\u001b[39m     Y = check_array(\n\u001b[32m    210\u001b[39m         Y,\n\u001b[32m    211\u001b[39m         accept_sparse=accept_sparse,\n\u001b[32m   (...)\u001b[39m\u001b[32m    216\u001b[39m         ensure_2d=ensure_2d,\n\u001b[32m    217\u001b[39m     )\n\u001b[32m    219\u001b[39m \u001b[38;5;28;01mif\u001b[39;00m precomputed:\n",
      "\u001b[36mFile \u001b[39m\u001b[32m~/Desktop/EPN/ir/ir-2025A/.venv/lib/python3.12/site-packages/sklearn/utils/validation.py:1055\u001b[39m, in \u001b[36mcheck_array\u001b[39m\u001b[34m(array, accept_sparse, accept_large_sparse, dtype, order, copy, force_writeable, force_all_finite, ensure_all_finite, ensure_non_negative, ensure_2d, allow_nd, ensure_min_samples, ensure_min_features, estimator, input_name)\u001b[39m\n\u001b[32m   1053\u001b[39m         array = xp.astype(array, dtype, copy=\u001b[38;5;28;01mFalse\u001b[39;00m)\n\u001b[32m   1054\u001b[39m     \u001b[38;5;28;01melse\u001b[39;00m:\n\u001b[32m-> \u001b[39m\u001b[32m1055\u001b[39m         array = \u001b[43m_asarray_with_order\u001b[49m\u001b[43m(\u001b[49m\u001b[43marray\u001b[49m\u001b[43m,\u001b[49m\u001b[43m \u001b[49m\u001b[43morder\u001b[49m\u001b[43m=\u001b[49m\u001b[43morder\u001b[49m\u001b[43m,\u001b[49m\u001b[43m \u001b[49m\u001b[43mdtype\u001b[49m\u001b[43m=\u001b[49m\u001b[43mdtype\u001b[49m\u001b[43m,\u001b[49m\u001b[43m \u001b[49m\u001b[43mxp\u001b[49m\u001b[43m=\u001b[49m\u001b[43mxp\u001b[49m\u001b[43m)\u001b[49m\n\u001b[32m   1056\u001b[39m \u001b[38;5;28;01mexcept\u001b[39;00m ComplexWarning \u001b[38;5;28;01mas\u001b[39;00m complex_warning:\n\u001b[32m   1057\u001b[39m     \u001b[38;5;28;01mraise\u001b[39;00m \u001b[38;5;167;01mValueError\u001b[39;00m(\n\u001b[32m   1058\u001b[39m         \u001b[33m\"\u001b[39m\u001b[33mComplex data not supported\u001b[39m\u001b[38;5;130;01m\\n\u001b[39;00m\u001b[38;5;132;01m{}\u001b[39;00m\u001b[38;5;130;01m\\n\u001b[39;00m\u001b[33m\"\u001b[39m.format(array)\n\u001b[32m   1059\u001b[39m     ) \u001b[38;5;28;01mfrom\u001b[39;00m\u001b[38;5;250m \u001b[39m\u001b[34;01mcomplex_warning\u001b[39;00m\n",
      "\u001b[36mFile \u001b[39m\u001b[32m~/Desktop/EPN/ir/ir-2025A/.venv/lib/python3.12/site-packages/sklearn/utils/_array_api.py:839\u001b[39m, in \u001b[36m_asarray_with_order\u001b[39m\u001b[34m(array, dtype, order, copy, xp, device)\u001b[39m\n\u001b[32m    837\u001b[39m     array = numpy.array(array, order=order, dtype=dtype)\n\u001b[32m    838\u001b[39m \u001b[38;5;28;01melse\u001b[39;00m:\n\u001b[32m--> \u001b[39m\u001b[32m839\u001b[39m     array = \u001b[43mnumpy\u001b[49m\u001b[43m.\u001b[49m\u001b[43masarray\u001b[49m\u001b[43m(\u001b[49m\u001b[43marray\u001b[49m\u001b[43m,\u001b[49m\u001b[43m \u001b[49m\u001b[43morder\u001b[49m\u001b[43m=\u001b[49m\u001b[43morder\u001b[49m\u001b[43m,\u001b[49m\u001b[43m \u001b[49m\u001b[43mdtype\u001b[49m\u001b[43m=\u001b[49m\u001b[43mdtype\u001b[49m\u001b[43m)\u001b[49m\n\u001b[32m    841\u001b[39m \u001b[38;5;66;03m# At this point array is a NumPy ndarray. We convert it to an array\u001b[39;00m\n\u001b[32m    842\u001b[39m \u001b[38;5;66;03m# container that is consistent with the input's namespace.\u001b[39;00m\n\u001b[32m    843\u001b[39m \u001b[38;5;28;01mreturn\u001b[39;00m xp.asarray(array)\n",
      "\u001b[31mValueError\u001b[39m: setting an array element with a sequence."
     ]
    }
   ],
   "source": [
    "from sklearn.metrics.pairwise import cosine_similarity\n",
    "\n",
    "embeddings_matrix = newsgroupsdocs_df['embeddings'].to_numpy().reshape(-1, 1)  # Ensure the shape is (n_docs, 300)\n",
    "\n",
    "# embeddings_matrix.shape\n",
    "query_embedding_2d = query_embedding.reshape(-1, 1)  # shape: (1, 300)\n",
    "\n",
    "embeddings_matrix.shape\n",
    "\n",
    "# Use the correct 2D numpy array for embeddings\n",
    "results = cosine_similarity(embeddings_matrix, query_embedding_2d)\n",
    "# results = results.flatten()  # shape: (n_docs,)\n",
    "\n",
    "# results"
   ]
  },
  {
   "cell_type": "code",
   "execution_count": 3,
   "id": "acdc0580901174e2",
   "metadata": {
    "ExecuteTime": {
     "end_time": "2025-06-25T13:24:16.437219Z",
     "start_time": "2025-06-25T13:24:16.424202Z"
    }
   },
   "outputs": [
    {
     "name": "stdout",
     "output_type": "stream",
     "text": [
      "Distancia Euclidiana a doc1: 0.2449489742783178\n",
      "Distancia Euclidiana a doc2: 0.24494897427831785\n",
      "Similitud coseno con doc1: 0.8951435925492909\n",
      "Similitud coseno con doc2: 0.8846153846153845\n"
     ]
    }
   ],
   "source": [
    "from numpy.linalg import norm\n",
    "\n",
    "dist1 = norm(query - doc1)\n",
    "dist2 = norm(query - doc2)\n",
    "\n",
    "print(\"Distancia Euclidiana a doc1:\", dist1)\n",
    "print(\"Distancia Euclidiana a doc2:\", dist2)\n",
    "\n",
    "def cosine_similarity(a, b):\n",
    "    return np.dot(a, b) / (norm(a) * norm(b))\n",
    "\n",
    "sim1 = cosine_similarity(query, doc1)\n",
    "sim2 = cosine_similarity(query, doc2)\n",
    "\n",
    "print(\"Similitud coseno con doc1:\", sim1)\n",
    "print(\"Similitud coseno con doc2:\", sim2)"
   ]
  },
  {
   "cell_type": "markdown",
   "id": "1d52d25bf0be142",
   "metadata": {},
   "source": [
    "## 3. Normalización de Vectores\n",
    "\n",
    "Muchos sistemas normalizan los vectores para que su norma sea 1:\n",
    "\n",
    "$\\[ \\hat{\\vec{v}} = \\frac{\\vec{v}}{\\|\\vec{v}\\|} \\]$\n",
    "\n",
    "Esto transforma la distancia Euclidiana en una función directa de la similitud coseno, facilitando búsquedas eficientes y comparables."
   ]
  },
  {
   "cell_type": "code",
   "execution_count": 4,
   "id": "bc8af7ab6b021307",
   "metadata": {
    "ExecuteTime": {
     "end_time": "2025-06-25T13:24:23.682148Z",
     "start_time": "2025-06-25T13:24:23.662256Z"
    }
   },
   "outputs": [
    {
     "name": "stdout",
     "output_type": "stream",
     "text": [
      "Vector normalizado q: [0.19611614 0.58834841 0.78446454]\n",
      "Similitud coseno post-normalización (dot): 0.895143592549291 0.8846153846153845\n",
      "2 - 2cos(theta): 0.20971281490141802\n",
      "Distancia euclidiana al cuadrado: 0.20971281490141774\n"
     ]
    }
   ],
   "source": [
    "def normalize(v):\n",
    "    return v / norm(v)\n",
    "\n",
    "q_norm = normalize(query)\n",
    "d1_norm = normalize(doc1)\n",
    "d2_norm = normalize(doc2)\n",
    "\n",
    "print(\"Vector normalizado q:\", q_norm)\n",
    "print(\"Similitud coseno post-normalización (dot):\", np.dot(q_norm, d1_norm), np.dot(q_norm, d2_norm))\n",
    "\n",
    "# Relación teórica: dist² = 2 - 2cos(θ)\n",
    "dot = np.dot(q_norm, d1_norm)\n",
    "euclidean_sq = norm(q_norm - d1_norm)**2\n",
    "print(\"2 - 2cos(theta):\", 2 - 2 * dot)\n",
    "print(\"Distancia euclidiana al cuadrado:\", euclidean_sq)"
   ]
  },
  {
   "cell_type": "markdown",
   "id": "ed5b08d9bbda13ed",
   "metadata": {},
   "source": [
    "## 4. Indexación y Aceleración\n",
    "\n",
    "Buscar en millones de vectores directamente es costoso $(\\( O(n \\cdot d) \\))$. Se usan estructuras aproximadas para acelerar:\n",
    "\n",
    "### a. IVF (Inverted File Index)\n",
    "- Aplica clustering (K-means) a los vectores.\n",
    "- Durante la búsqueda, se consulta solo un subconjunto de clústeres.\n",
    "\n",
    "### b. HNSW (Hierarchical Navigable Small World)\n",
    "- Construye un grafo jerárquico de vecinos más cercanos.\n",
    "- Permite búsquedas logarítmicas eficientes."
   ]
  },
  {
   "cell_type": "code",
   "execution_count": null,
   "id": "b6f06db7b3e286e2",
   "metadata": {},
   "outputs": [],
   "source": []
  }
 ],
 "metadata": {
  "kernelspec": {
   "display_name": ".venv",
   "language": "python",
   "name": "python3"
  },
  "language_info": {
   "codemirror_mode": {
    "name": "ipython",
    "version": 3
   },
   "file_extension": ".py",
   "mimetype": "text/x-python",
   "name": "python",
   "nbconvert_exporter": "python",
   "pygments_lexer": "ipython3",
   "version": "3.12.9"
  }
 },
 "nbformat": 4,
 "nbformat_minor": 5
}
